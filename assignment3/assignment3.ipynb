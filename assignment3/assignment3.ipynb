{
 "cells": [
  {
   "cell_type": "markdown",
   "metadata": {},
   "source": [
    "## Assignment 3\n",
    "\n",
    "### Alice Ding, Shoshana Farber, Christian Uriostegui\n",
    "\n",
    "This week's assignment is to:\n",
    "\n",
    "1. Load a graph database of your choosing from a text file or other source. If you take a large network dataset from the web (such as from https://snap.stanford.edu/data/), please feel free at this point to load just a small subset of the nodes and edges.\n",
    "\n",
    "2. Create basic analysis on the graph, including the graph’s diameter, and at least one other metric of your choosing. You may either code the functions by hand (to build your intuition and insight), or use functions in an existing package.\n",
    "\n",
    "3. Use a visualization tool of your choice (Neo4j, Gephi, etc.) to display information.\n",
    "\n",
    "\n",
    "For our dataset, we found a [Marvel Universe Social Network](https://www.kaggle.com/datasets/csanhueza/the-marvel-universe-social-network) dataset from Kaggle. We'll be using a subset of nodes and edges in order to complete this assignment."
   ]
  },
  {
   "cell_type": "code",
   "execution_count": null,
   "metadata": {},
   "outputs": [],
   "source": [
    "# Step 1: Importing relevant packages and loading the data\n",
    "\n",
    "import numpy as np\n",
    "import pandas as pd \n",
    "import networkx as nx\n",
    "import matplotlib.pyplot as plt\n",
    "\n",
    "nodes = pd.read_csv('https://raw.githubusercontent.com/addsding/cuny-data620/main/assignment3/nodes.csv')\n",
    "edges = pd.read_csv('https://raw.githubusercontent.com/addsding/cuny-data620/main/assignment3/edges.csv')\n",
    "hero_network = pd.read_csv('https://raw.githubusercontent.com/addsding/cuny-data620/main/assignment3/hero-network.csv')"
   ]
  },
  {
   "cell_type": "code",
   "execution_count": null,
   "metadata": {},
   "outputs": [],
   "source": [
    "# Step 2: Filter down to a few heroes to subset the data; we'll look at Spiderman, Dr. Strange, and Iron Man\n",
    "np.random.seed(42)\n",
    "\n",
    "spider_man = hero_network[hero_network['hero1']=='SPIDER-MAN/PETER PAR'].sample(50)\n",
    "dr_strange = hero_network[hero_network['hero1']=='DR. STRANGE/STEPHEN '].sample(50)\n",
    "iron_man = hero_network[hero_network['hero1'].str.contains('IRON MAN/TONY STARK')].sample(50)\n",
    "\n",
    "data = pd.concat([spider_man, dr_strange, iron_man], axis = 0)\n",
    "\n",
    "print(data.head())"
   ]
  },
  {
   "cell_type": "code",
   "execution_count": null,
   "metadata": {},
   "outputs": [],
   "source": [
    "# Step 3: Basic graph analysis\n",
    "\n",
    "# We'll be looking at the diameter, center, and eccentricity\n",
    "\n",
    "# Diameter = maximum eccentricity\n",
    "# Center = the set of nodes with eccentricity equal to radius\n",
    "# Eccentricity = The eccentricity of a node v is the maximum distance from v to all other nodes in G\n",
    "\n",
    "G = nx.from_pandas_edgelist(data, 'hero1', 'hero2')\n",
    "diameter = nx.diameter(G)\n",
    "center = nx.center(G)\n",
    "eccentricity = nx.eccentricity(G)\n",
    "print('Diameter = ', diameter)\n",
    "print('Center = ', center)\n",
    "print('Eccentricity = ', eccentricity)"
   ]
  },
  {
   "cell_type": "code",
   "execution_count": null,
   "metadata": {},
   "outputs": [],
   "source": [
    "# Step 4: Visualize graph network\n",
    "\n",
    "# Using the nodes and edges stored in G, we can then place it in a graph object\n",
    "\n",
    "nx.Graph()\n",
    "pos = nx.spring_layout(G)\n",
    "plt.figure(figsize=(10, 10))\n",
    "nx.draw_networkx(G, pos, with_labels=True, node_size=200, node_color='lightblue', font_size=5, font_weight='bold', edge_color='gray')\n",
    "plt.title(\"Hero Network Graph\")\n",
    "plt.axis('off')\n",
    "plt.show()"
   ]
  },
  {
   "cell_type": "code",
   "execution_count": null,
   "metadata": {},
   "outputs": [],
   "source": []
  }
 ],
 "metadata": {
  "kernelspec": {
   "display_name": "Python 3 (ipykernel)",
   "language": "python",
   "name": "python3"
  },
  "language_info": {
   "codemirror_mode": {
    "name": "ipython",
    "version": 3
   },
   "file_extension": ".py",
   "mimetype": "text/x-python",
   "name": "python",
   "nbconvert_exporter": "python",
   "pygments_lexer": "ipython3",
   "version": "3.10.9"
  },
  "vscode": {
   "interpreter": {
    "hash": "8938740c0a294b0bb463709b29f839994c0cf0da429cfc65f1491f488a740231"
   }
  }
 },
 "nbformat": 4,
 "nbformat_minor": 2
}
