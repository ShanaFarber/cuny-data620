{
 "cells": [
  {
   "cell_type": "markdown",
   "metadata": {},
   "source": [
    "## DATA 620 Final Project Proposal\n",
    "Alice Ding, Shoshana Farber, Christian Uriostegui\n",
    "\n",
    "## Harry Potter Movie Analysis\n",
    "\n",
    "### Data Source\n",
    "\n",
    "We found [this](https://www.kaggle.com/datasets/maricinnamon/harry-potter-movies-dataset) collection of .csvs on Kaggle that holds information from all eight Harry Potter movies. We will be focusing on the `Dialogue.csv` file for most of this analysis, however we will be pulling information from several of the other files as well.\n",
    "\n",
    "### Motivation\n",
    "\n",
    "The three of us are fans of the Harry Potter franchise and are curious to see how characters are connected as well as what common themes appear in all of the dialogue.\n",
    "\n",
    "There are also certain relationships and themes that stick out in our minds when we think about Harry Potter and we are curious to see if these themes also stick out in our analysis. \n",
    "\n",
    "### Network Analysis Goal\n",
    "\n",
    "We will be looking at how many scenes each character shares with each other to identify relationships. The weights of this graph will be how many scenes characters share together. With this network, we will be able to interpret:\n",
    "\n",
    "- Who is friends/most commonly associated with who?\n",
    "- Who are the most prominent characters within the network in terms of who has the most dialogue and appears the most?\n",
    "\n",
    "We would like to also try a bimodal network analysis of character connections based on their dialogue (i.e. words/themes that these characters often say). From this we can be able to establish character similarity based on who/what they talk about, even if not to each other. \n",
    "\n",
    "### Dialogue Analysis Goal\n",
    "\n",
    "We will be looking at dialogue between characters to extrapolate common themes as well as sentiment amongst the various characters. Using natural language processing, we will be able to see:\n",
    "\n",
    "- What do certain characters tend to talk about?\n",
    "- Do certain characters tend to talk about negative things vs. positive?\n",
    "\n",
    "### Work Distribution\n",
    "\n",
    "- Proposal: Alice/Shoshana\n",
    "- Data Acquisition: Alice\n",
    "- Data Preparation: Alice\n",
    "- Data Exploration: Alice\n",
    "- Network Design: All\n",
    "- Network Analysis: Christian\n",
    "- Sentiment Analysis: Shoshana\n",
    "- Conclusion: Christian/Shoshana\n",
    "- Final Presentation Video: All\n",
    "- Final Presentation: All\n",
    "\n",
    "### Concerns\n",
    "\n",
    "- Time: As this is a short course, there is limited time from the time of this proposal until the execution of the final project.\n",
    "- Data: There is a fair amount of made up words in the franchise (spells, places, etc). Because of this, the sentiment analysis tools we use may not know what to rate these words. However, we think there is enough non-made up dialogue to try and establish character positivity/negativity. \n",
    "- Analysis: We are not sure how the bimodal network will turn out and whether it will be too overwhelming to decipher. Hopefully we can trim down the network to be able to gain an understanding of the conenctions between characters. "
   ]
  }
 ],
 "metadata": {
  "language_info": {
   "name": "python"
  },
  "orig_nbformat": 4
 },
 "nbformat": 4,
 "nbformat_minor": 2
}
