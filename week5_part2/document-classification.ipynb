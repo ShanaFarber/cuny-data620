{
 "cells": [
  {
   "attachments": {},
   "cell_type": "markdown",
   "metadata": {},
   "source": [
    "## Assignment: Document Classification\n",
    "\n",
    "### Alice Ding, Shoshana Farber, Christian Uriostegui\n",
    "\n",
    "It can be useful to be able to classify new \"test\" documents using already classified \"training\" documents.  A common example is using a corpus of labeled spam and ham (non-spam) e-mails to predict whether or not a new document is spam.  \n",
    "\n",
    "For this project, we've chosen to use two files from [spamasssassin](https://spamassassin.apache.org/old/publiccorpus/) as our training data. This is a list of 2,551 ham (non-spam) emails and 1,398 spam ones to see whether the document is spam or not.\n",
    "\n",
    "### Importing the Data\n",
    "\n",
    "To start, we have the files downloaded in two different folders within this directory; we'll be using Python to read each file and put it into one full dataframe with messages and labels."
   ]
  },
  {
   "cell_type": "code",
   "execution_count": 1,
   "metadata": {},
   "outputs": [
    {
     "data": {
      "text/html": [
       "<div>\n",
       "<style scoped>\n",
       "    .dataframe tbody tr th:only-of-type {\n",
       "        vertical-align: middle;\n",
       "    }\n",
       "\n",
       "    .dataframe tbody tr th {\n",
       "        vertical-align: top;\n",
       "    }\n",
       "\n",
       "    .dataframe thead th {\n",
       "        text-align: right;\n",
       "    }\n",
       "</style>\n",
       "<table border=\"1\" class=\"dataframe\">\n",
       "  <thead>\n",
       "    <tr style=\"text-align: right;\">\n",
       "      <th></th>\n",
       "      <th>email</th>\n",
       "      <th>label</th>\n",
       "    </tr>\n",
       "  </thead>\n",
       "  <tbody>\n",
       "    <tr>\n",
       "      <th>0</th>\n",
       "      <td>From rssfeeds@jmason.org  Mon Sep 30 13:43:46 ...</td>\n",
       "      <td>ham</td>\n",
       "    </tr>\n",
       "    <tr>\n",
       "      <th>1</th>\n",
       "      <td>From fork-admin@xent.com  Tue Sep  3 14:24:41 ...</td>\n",
       "      <td>ham</td>\n",
       "    </tr>\n",
       "    <tr>\n",
       "      <th>2</th>\n",
       "      <td>From exmh-users-admin@redhat.com  Wed Sep 11 1...</td>\n",
       "      <td>ham</td>\n",
       "    </tr>\n",
       "    <tr>\n",
       "      <th>3</th>\n",
       "      <td>From fork-admin@xent.com  Mon Sep  2 16:22:12 ...</td>\n",
       "      <td>ham</td>\n",
       "    </tr>\n",
       "    <tr>\n",
       "      <th>4</th>\n",
       "      <td>From rssfeeds@jmason.org  Fri Sep 27 10:40:59 ...</td>\n",
       "      <td>ham</td>\n",
       "    </tr>\n",
       "  </tbody>\n",
       "</table>\n",
       "</div>"
      ],
      "text/plain": [
       "                                               email label\n",
       "0  From rssfeeds@jmason.org  Mon Sep 30 13:43:46 ...   ham\n",
       "1  From fork-admin@xent.com  Tue Sep  3 14:24:41 ...   ham\n",
       "2  From exmh-users-admin@redhat.com  Wed Sep 11 1...   ham\n",
       "3  From fork-admin@xent.com  Mon Sep  2 16:22:12 ...   ham\n",
       "4  From rssfeeds@jmason.org  Fri Sep 27 10:40:59 ...   ham"
      ]
     },
     "execution_count": 1,
     "metadata": {},
     "output_type": "execute_result"
    }
   ],
   "source": [
    "import sys\n",
    "import os\n",
    "import pandas as pd\n",
    "from os.path import expanduser\n",
    "import nltk\n",
    "import re\n",
    "\n",
    "# get the path names of each directory\n",
    "ham = sys.path[0] + '/easy_ham'\n",
    "spam = sys.path[0] + '/spam_2'\n",
    "\n",
    "# create a function that takes the directory and the label we want appended to those messages to put into a dataframe\n",
    "def create_df(folder, label):\n",
    "    file_data = []\n",
    "    file_labels = []\n",
    "    for file_name in os.listdir(folder):\n",
    "        file_path = os.path.join(folder, file_name)\n",
    "        if os.path.isfile(file_path):\n",
    "            with open(file_path, 'r', encoding='latin-1') as file:\n",
    "                content = file.read()\n",
    "        file_data.append(content)\n",
    "        file_labels.append(label)\n",
    "    df = pd.DataFrame({'email': file_data, 'label': file_labels})\n",
    "    return df\n",
    "\n",
    "# create a dataframe for the ham messages\n",
    "ham_df = create_df(ham, 'ham')\n",
    "# create a dataframe for the spam messages\n",
    "spam_df = create_df(spam, 'spam')\n",
    "# combine these dataframes into one full one of emails\n",
    "full_df = pd.concat([ham_df, spam_df])\n",
    "\n",
    "full_df.head()"
   ]
  },
  {
   "attachments": {},
   "cell_type": "markdown",
   "metadata": {},
   "source": [
    "Now that the data is imported, let's try to clean it up to only hold relevant information.\n",
    "\n",
    "### Cleaning the Data"
   ]
  },
  {
   "cell_type": "code",
   "execution_count": 2,
   "metadata": {},
   "outputs": [
    {
     "data": {
      "text/html": [
       "<div>\n",
       "<style scoped>\n",
       "    .dataframe tbody tr th:only-of-type {\n",
       "        vertical-align: middle;\n",
       "    }\n",
       "\n",
       "    .dataframe tbody tr th {\n",
       "        vertical-align: top;\n",
       "    }\n",
       "\n",
       "    .dataframe thead th {\n",
       "        text-align: right;\n",
       "    }\n",
       "</style>\n",
       "<table border=\"1\" class=\"dataframe\">\n",
       "  <thead>\n",
       "    <tr style=\"text-align: right;\">\n",
       "      <th></th>\n",
       "      <th>email</th>\n",
       "      <th>label</th>\n",
       "    </tr>\n",
       "  </thead>\n",
       "  <tbody>\n",
       "    <tr>\n",
       "      <th>0</th>\n",
       "      <td>rssfeedsjmasonorg mon sep returnpath delivered...</td>\n",
       "      <td>ham</td>\n",
       "    </tr>\n",
       "    <tr>\n",
       "      <th>1</th>\n",
       "      <td>forkadminxentcom tue sep returnpath deliveredt...</td>\n",
       "      <td>ham</td>\n",
       "    </tr>\n",
       "    <tr>\n",
       "      <th>2</th>\n",
       "      <td>exmhusersadminredhatcom wed sep returnpath del...</td>\n",
       "      <td>ham</td>\n",
       "    </tr>\n",
       "    <tr>\n",
       "      <th>3</th>\n",
       "      <td>forkadminxentcom mon sep returnpath deliveredt...</td>\n",
       "      <td>ham</td>\n",
       "    </tr>\n",
       "    <tr>\n",
       "      <th>4</th>\n",
       "      <td>rssfeedsjmasonorg fri sep returnpath delivered...</td>\n",
       "      <td>ham</td>\n",
       "    </tr>\n",
       "  </tbody>\n",
       "</table>\n",
       "</div>"
      ],
      "text/plain": [
       "                                               email label\n",
       "0  rssfeedsjmasonorg mon sep returnpath delivered...   ham\n",
       "1  forkadminxentcom tue sep returnpath deliveredt...   ham\n",
       "2  exmhusersadminredhatcom wed sep returnpath del...   ham\n",
       "3  forkadminxentcom mon sep returnpath deliveredt...   ham\n",
       "4  rssfeedsjmasonorg fri sep returnpath delivered...   ham"
      ]
     },
     "execution_count": 2,
     "metadata": {},
     "output_type": "execute_result"
    }
   ],
   "source": [
    "from nltk.corpus import stopwords\n",
    "\n",
    "# get stop words from nltk\n",
    "stop_words = set(stopwords.words('english'))\n",
    "\n",
    "# create a function to clean a given text\n",
    "def clean_text(text):\n",
    "    text = re.sub(r\"<.*?>\", \"\", text)              # remove HTML tags\n",
    "    text = re.sub(r\"[0-9]\", \"\", text)               # remove digits\n",
    "    text = re.sub(r\"[^\\w\\s]\", \"\", text)             # remove non-word and non-space characters\n",
    "    text = re.sub(r\"\\n\", \"\", text)                  # remove newlines\n",
    "    text = text.lower()                            # convert all text to lowercase\n",
    "    text = \" \".join([word for word in text.split() if word not in stop_words])  # remove stop words\n",
    "    return text\n",
    "\n",
    "full_df['email'] = full_df['email'].apply(clean_text)\n",
    "\n",
    "full_df.head()"
   ]
  },
  {
   "attachments": {},
   "cell_type": "markdown",
   "metadata": {},
   "source": [
    "Things are definitely looking cleaner!"
   ]
  }
 ],
 "metadata": {
  "kernelspec": {
   "display_name": "base",
   "language": "python",
   "name": "python3"
  },
  "language_info": {
   "codemirror_mode": {
    "name": "ipython",
    "version": 3
   },
   "file_extension": ".py",
   "mimetype": "text/x-python",
   "name": "python",
   "nbconvert_exporter": "python",
   "pygments_lexer": "ipython3",
   "version": "3.10.9"
  },
  "orig_nbformat": 4,
  "vscode": {
   "interpreter": {
    "hash": "8938740c0a294b0bb463709b29f839994c0cf0da429cfc65f1491f488a740231"
   }
  }
 },
 "nbformat": 4,
 "nbformat_minor": 2
}
