{
 "cells": [
  {
   "attachments": {},
   "cell_type": "markdown",
   "metadata": {},
   "source": [
    "# Week 4 - Part 2: High Frequency Words\n",
    "\n",
    "Alice Ding, Shoshana Farber, Christian Uriostegui\n",
    "\n",
    "### Assignment Details:\n",
    "\n",
    "1. Choose a corpus of interest.\n",
    "2. How many unique words are in the corpus?\n",
    "3. Taking the most common words, how many unique words represent half the total words in the corpus?\n",
    "4. Identify the 200 highest frequency words in this corpus.\n",
    "5. Create a graph that shows the relative frequency of these 200 words.\n",
    "6. Does the observed relative frequency of these words follow Zipf's law? Explain.\n",
    "7. In what ways do you think the frequency of the words in this corpus differ from \"all words in corpora?\""
   ]
  },
  {
   "attachments": {},
   "cell_type": "markdown",
   "metadata": {},
   "source": [
    "### Corpus of Interest\n",
    "\n",
    "For this assignment, we chose to use the script for the first Captain America movie. The `.txt` file for the script was found on Kaggle and can be accessed [here](https://www.kaggle.com/datasets/pdunton/marvel-cinematic-universe-dialogue). \n",
    "\n",
    "***\n",
    "\n",
    "### Loading the Text File"
   ]
  },
  {
   "cell_type": "code",
   "execution_count": 302,
   "metadata": {},
   "outputs": [],
   "source": [
    "import nltk\n",
    "import pandas as pd\n",
    "import networkx as nx\n",
    "import matplotlib.pyplot as plt\n",
    "import re\n",
    "import requests\n",
    "\n",
    "url = \"https://raw.githubusercontent.com/ShanaFarber/cuny-data620/main/week4_part2/captain_america.txt\"\n",
    "\n",
    "script = requests.get(url).content\n",
    "\n",
    "script = script.decode()"
   ]
  },
  {
   "cell_type": "code",
   "execution_count": 303,
   "metadata": {},
   "outputs": [],
   "source": [
    "lines = script.split('\\n')"
   ]
  },
  {
   "cell_type": "code",
   "execution_count": 304,
   "metadata": {},
   "outputs": [
    {
     "data": {
      "text/plain": [
       "['[first lines; in the Arctic]',\n",
       " 'Search Team Leader: Are you the guys from Washington?',\n",
       " 'SHIELD Tech: You get many other visitors out here?',\n",
       " 'SHIELD Lieutenant: How long have you been on site?',\n",
       " 'Search Team Leader: Since this morning. A Russian oil team called it in about 18 hours ago.',\n",
       " 'SHIELD Lieutenant: How come nobody spotted it before?',\n",
       " 'Search Team Leader: It’s really not that surprising. This landscape’s changing all the time. You got any ideas what this thing is exactly?',\n",
       " 'SHIELD Lieutenant: I don’t know. It’s probably a weather balloon.',\n",
       " 'Search Team Leader: I don’t think so. You know we don’t have the equipment for a job like this.',\n",
       " 'SHIELD Tech: How long before we can start craning it out?',\n",
       " 'Search Team Leader: I don’t think you quite understand. You guys are gonna need one hell of a crane!',\n",
       " '[as the shot widens we see a massive frozen ship revealed]',\n",
       " '[after breaking into the metal aircraft]',\n",
       " 'SHIELD Lieutenant: [speaking into his comm] Base, we’re in. [looking around] What is this? [The technician nearly slipps on the ice covering the ground] Careful.',\n",
       " 'SHIELD Tech: [finding the frozen shield of Captain America] Lieutenant! What is it?']"
      ]
     },
     "execution_count": 304,
     "metadata": {},
     "output_type": "execute_result"
    }
   ],
   "source": [
    "# preview first few lines\n",
    "lines[:15]"
   ]
  },
  {
   "attachments": {},
   "cell_type": "markdown",
   "metadata": {},
   "source": [
    "\n",
    "For the word analysis, we don't need the descriptions in brackets and we don't need the names of the characters, just the dialogue. \n",
    "\n",
    "First, let's remove the bracketed descriptions."
   ]
  },
  {
   "cell_type": "code",
   "execution_count": 305,
   "metadata": {},
   "outputs": [
    {
     "data": {
      "text/plain": [
       "['Search Team Leader: Are you the guys from Washington?\\n',\n",
       " 'SHIELD Tech: You get many other visitors out here?\\n',\n",
       " 'SHIELD Lieutenant: How long have you been on site?\\n',\n",
       " 'Search Team Leader: Since this morning. A Russian oil team called it in about 18 hours ago.\\n',\n",
       " 'SHIELD Lieutenant: How come nobody spotted it before?\\n',\n",
       " \"Search Team Leader: It's really not that surprising. This landscape's changing all the time. You got any ideas what this thing is exactly?\\n\",\n",
       " \"SHIELD Lieutenant: I don't know. It's probably a weather balloon.\\n\",\n",
       " \"Search Team Leader: I don't think so. You know we don't have the equipment for a job like this.\\n\",\n",
       " 'SHIELD Tech: How long before we can start craning it out?\\n',\n",
       " \"Search Team Leader: I don't think you quite understand. You guys are gonna need one hell of a crane!\\n\",\n",
       " 'SHIELD Lieutenant:  Careful.\\n',\n",
       " 'SHIELD Tech:  Lieutenant! What is it?\\n',\n",
       " 'SHIELD Lieutenant: My God!  Base, give me a line to the Colonel.\\n',\n",
       " \"Voice from Earpiece: It's 3 a.m., sir.\\n\",\n",
       " \"SHIELD Lieutenant: I don't care what time it is. This one's waited long enough.\\n\"]"
      ]
     },
     "execution_count": 305,
     "metadata": {},
     "output_type": "execute_result"
    }
   ],
   "source": [
    "# function to remove bracketed words and some special characters\n",
    "def clean_line(line):\n",
    "    new_line = re.sub('\\[.*\\]', '', line)\n",
    "    new_line = re.sub('’', '\\'', new_line)\n",
    "    new_line = re.sub('…', ' ', new_line)\n",
    "    new_line += '\\n'\n",
    "    return(new_line)\n",
    "\n",
    "# initiate list of cleaned lines\n",
    "cleaned_lines = []\n",
    "\n",
    "# use function to remove bracketed lines\n",
    "# only include lines that are not empty\n",
    "for line in lines:\n",
    "    line = clean_line(line)\n",
    "    if not line.startswith('\\n'):\n",
    "        cleaned_lines.append(line)\n",
    "\n",
    "cleaned_lines[:15]"
   ]
  },
  {
   "attachments": {},
   "cell_type": "markdown",
   "metadata": {},
   "source": [
    "Now we can also remove character names before each line. In order to preserve knowledge of whose line is whose, let's create a dataframe of the script with a column for character and a column for the line they say."
   ]
  },
  {
   "cell_type": "code",
   "execution_count": 306,
   "metadata": {},
   "outputs": [
    {
     "data": {
      "text/plain": [
       "[['Search Team Leader', 'Are you the guys from Washington?'],\n",
       " ['SHIELD Tech', 'You get many other visitors out here?'],\n",
       " ['SHIELD Lieutenant', 'How long have you been on site?'],\n",
       " ['Search Team Leader',\n",
       "  'Since this morning. A Russian oil team called it in about 18 hours ago.'],\n",
       " ['SHIELD Lieutenant', 'How come nobody spotted it before?'],\n",
       " ['Search Team Leader',\n",
       "  \"It's really not that surprising. This landscape's changing all the time. You got any ideas what this thing is exactly?\"],\n",
       " ['SHIELD Lieutenant', \"I don't know. It's probably a weather balloon.\"],\n",
       " ['Search Team Leader',\n",
       "  \"I don't think so. You know we don't have the equipment for a job like this.\"],\n",
       " ['SHIELD Tech', 'How long before we can start craning it out?'],\n",
       " ['Search Team Leader',\n",
       "  \"I don't think you quite understand. You guys are gonna need one hell of a crane!\"],\n",
       " ['SHIELD Lieutenant', ' Careful.'],\n",
       " ['SHIELD Tech', ' Lieutenant! What is it?'],\n",
       " ['SHIELD Lieutenant', 'My God!  Base, give me a line to the Colonel.'],\n",
       " ['Voice from Earpiece', \"It's 3 a.m., sir.\"],\n",
       " ['SHIELD Lieutenant',\n",
       "  \"I don't care what time it is. This one's waited long enough.\"]]"
      ]
     },
     "execution_count": 306,
     "metadata": {},
     "output_type": "execute_result"
    }
   ],
   "source": [
    "# function to split line on :\n",
    "# each line in form of character: dialogue\n",
    "def split_line(line):\n",
    "    split_line = re.sub('\\n', '', line).split(': ')\n",
    "    return(split_line)\n",
    "\n",
    "# initilize empty list\n",
    "split_lines = []\n",
    "\n",
    "# create list of split lines\n",
    "for line in cleaned_lines:\n",
    "    line = split_line(line)\n",
    "    split_lines.append(line)\n",
    "\n",
    "split_lines[:15]"
   ]
  },
  {
   "cell_type": "code",
   "execution_count": 307,
   "metadata": {},
   "outputs": [
    {
     "data": {
      "text/html": [
       "<div>\n",
       "<style scoped>\n",
       "    .dataframe tbody tr th:only-of-type {\n",
       "        vertical-align: middle;\n",
       "    }\n",
       "\n",
       "    .dataframe tbody tr th {\n",
       "        vertical-align: top;\n",
       "    }\n",
       "\n",
       "    .dataframe thead th {\n",
       "        text-align: right;\n",
       "    }\n",
       "</style>\n",
       "<table border=\"1\" class=\"dataframe\">\n",
       "  <thead>\n",
       "    <tr style=\"text-align: right;\">\n",
       "      <th></th>\n",
       "      <th>character</th>\n",
       "      <th>line</th>\n",
       "    </tr>\n",
       "  </thead>\n",
       "  <tbody>\n",
       "    <tr>\n",
       "      <th>0</th>\n",
       "      <td>Search Team Leader</td>\n",
       "      <td>Are you the guys from Washington?</td>\n",
       "    </tr>\n",
       "    <tr>\n",
       "      <th>1</th>\n",
       "      <td>SHIELD Tech</td>\n",
       "      <td>You get many other visitors out here?</td>\n",
       "    </tr>\n",
       "    <tr>\n",
       "      <th>2</th>\n",
       "      <td>SHIELD Lieutenant</td>\n",
       "      <td>How long have you been on site?</td>\n",
       "    </tr>\n",
       "    <tr>\n",
       "      <th>3</th>\n",
       "      <td>Search Team Leader</td>\n",
       "      <td>Since this morning. A Russian oil team called ...</td>\n",
       "    </tr>\n",
       "    <tr>\n",
       "      <th>4</th>\n",
       "      <td>SHIELD Lieutenant</td>\n",
       "      <td>How come nobody spotted it before?</td>\n",
       "    </tr>\n",
       "  </tbody>\n",
       "</table>\n",
       "</div>"
      ],
      "text/plain": [
       "            character                                               line\n",
       "0  Search Team Leader                  Are you the guys from Washington?\n",
       "1         SHIELD Tech              You get many other visitors out here?\n",
       "2   SHIELD Lieutenant                    How long have you been on site?\n",
       "3  Search Team Leader  Since this morning. A Russian oil team called ...\n",
       "4   SHIELD Lieutenant                 How come nobody spotted it before?"
      ]
     },
     "execution_count": 307,
     "metadata": {},
     "output_type": "execute_result"
    }
   ],
   "source": [
    "# turn split lines into data frame\n",
    "dialogue_df = pd.DataFrame(split_lines, columns = ['character', 'line']).dropna()\n",
    "\n",
    "dialogue_df.head()"
   ]
  },
  {
   "attachments": {},
   "cell_type": "markdown",
   "metadata": {},
   "source": [
    "We can now tokenize the words from the dialogue. \n",
    "\n",
    "First, we will concatenate all the dialogue into a single string. "
   ]
  },
  {
   "cell_type": "code",
   "execution_count": 308,
   "metadata": {},
   "outputs": [],
   "source": [
    "dialogue = ''\n",
    "\n",
    "for line in dialogue_df['line']:\n",
    "    dialogue += line.lower() + \" \""
   ]
  },
  {
   "attachments": {},
   "cell_type": "markdown",
   "metadata": {},
   "source": [
    "With **NLTK** library, we can use the `word_tokenize()` function to tokenize text. However, this splits words with apostrophe, so for this text we will use `TweetTokenizer.tokenize()` from **NLTK** to tokenize the words without splitting on the apostrophe."
   ]
  },
  {
   "cell_type": "code",
   "execution_count": 309,
   "metadata": {},
   "outputs": [
    {
     "name": "stdout",
     "output_type": "stream",
     "text": [
      "['are', 'you', 'the', 'guys', 'from', 'washington', '?', 'you', 'get', 'many', 'other', 'visitors', 'out', 'here', '?']\n"
     ]
    }
   ],
   "source": [
    "tokenized_dialogue = nltk.TweetTokenizer().tokenize(dialogue)\n",
    "\n",
    "print(tokenized_dialogue[:15])"
   ]
  },
  {
   "attachments": {},
   "cell_type": "markdown",
   "metadata": {},
   "source": [
    "Let's remove the punctuation, as these are not words. We can get a list of punctuation from the **string** library. "
   ]
  },
  {
   "cell_type": "code",
   "execution_count": 310,
   "metadata": {},
   "outputs": [],
   "source": [
    "# get punctuation symbols\n",
    "from string import punctuation\n",
    "punct = list(punctuation)\n",
    "\n",
    "# create list of unique tokenized words\n",
    "tokenized_dialogue = [token for token in tokenized_dialogue if token not in punct]"
   ]
  },
  {
   "attachments": {},
   "cell_type": "markdown",
   "metadata": {},
   "source": [
    "Now that the words are tokenized, we can now answer the questions from the assignment prompt. \n",
    "\n",
    "***\n",
    "\n",
    "**How many unique words are there in the corpus?**\n",
    "\n",
    "For unique words, let's remove contractions (such as he's = he is, you're = you are). To do this, let's remove any word that has an apostrophe. "
   ]
  },
  {
   "cell_type": "code",
   "execution_count": 311,
   "metadata": {},
   "outputs": [],
   "source": [
    "unique_tokenized_dialogue = [word for word in tokenized_dialogue if '\\'' not in word]"
   ]
  },
  {
   "attachments": {},
   "cell_type": "markdown",
   "metadata": {},
   "source": [
    "\n",
    "We can use a for loop to create a list of all the unique words in the corpus. "
   ]
  },
  {
   "cell_type": "code",
   "execution_count": 312,
   "metadata": {},
   "outputs": [
    {
     "name": "stdout",
     "output_type": "stream",
     "text": [
      "['are', 'you', 'the', 'guys', 'from', 'washington', 'get', 'many', 'other', 'visitors', 'out', 'here', 'how', 'long', 'have']\n"
     ]
    }
   ],
   "source": [
    "# initialize list\n",
    "unique_words = []\n",
    "\n",
    "# check if word already present, otherwise append to unique list\n",
    "for word in unique_tokenized_dialogue:\n",
    "    if word not in unique_words:\n",
    "        unique_words.append(word)\n",
    "\n",
    "print(unique_words[:15])"
   ]
  },
  {
   "cell_type": "code",
   "execution_count": 313,
   "metadata": {},
   "outputs": [
    {
     "name": "stdout",
     "output_type": "stream",
     "text": [
      "There are 1564 unique words in this corpus.\n"
     ]
    }
   ],
   "source": [
    "print(\"There are\", str(len(unique_words)), \"unique words in this corpus.\")"
   ]
  },
  {
   "attachments": {},
   "cell_type": "markdown",
   "metadata": {},
   "source": [
    "***\n",
    "\n",
    "**Taking the most common words, how many unique words represent half the total words in the corpus?**\n",
    "\n",
    "First, let's determine how many words would make up half the corpus."
   ]
  },
  {
   "cell_type": "code",
   "execution_count": 314,
   "metadata": {},
   "outputs": [
    {
     "name": "stdout",
     "output_type": "stream",
     "text": [
      "There are 6469 total words in this corpus. 3234.5 words would make up half the corpus.\n"
     ]
    }
   ],
   "source": [
    "print(\"There are\", str(len(unique_tokenized_dialogue)), \"total words in this corpus.\", str(len(unique_tokenized_dialogue)/2), \"words would make up half the corpus.\")"
   ]
  },
  {
   "attachments": {},
   "cell_type": "markdown",
   "metadata": {},
   "source": [
    "Now let's count how often each unique word appears in the script and sort by descending count. We can use **NLTK**'s `FreqDist()` function to calculate the frequencies for each word and `most_common()` to order by descending count."
   ]
  },
  {
   "cell_type": "code",
   "execution_count": 315,
   "metadata": {},
   "outputs": [],
   "source": [
    "unique_word_count = nltk.FreqDist(unique_tokenized_dialogue).most_common()"
   ]
  },
  {
   "attachments": {},
   "cell_type": "markdown",
   "metadata": {},
   "source": [
    "Now let's create a for loop to see when the sum of the frequencies of the most common words will be about half the corpus. We will also use a counter to count how many words this is so we can see how many words make up half the corpus."
   ]
  },
  {
   "cell_type": "code",
   "execution_count": 316,
   "metadata": {},
   "outputs": [
    {
     "name": "stdout",
     "output_type": "stream",
     "text": [
      "65 words make up approximately half the corpus.\n"
     ]
    }
   ],
   "source": [
    "# initiate counter\n",
    "count = 0\n",
    "# initiate total number of words\n",
    "total = 0\n",
    "\n",
    "for word, freq in unique_word_count:\n",
    "    total += freq\n",
    "    if total <= (len(unique_tokenized_dialogue)/2): \n",
    "        count += 1 # add to counter only if the number of words is still less than\n",
    "    else:\n",
    "        break\n",
    "\n",
    "print(str(count), \"words make up approximately half the corpus.\")"
   ]
  },
  {
   "attachments": {},
   "cell_type": "markdown",
   "metadata": {},
   "source": [
    "***\n",
    "\n",
    "**Identify the 200 highest frequency words in this corpus.**\n",
    "\n",
    "We can do this by creating a frequency distribution using **NLTK**'s `FreqDist()` and using the `most_common()` function to grab the top 200."
   ]
  },
  {
   "cell_type": "code",
   "execution_count": 317,
   "metadata": {},
   "outputs": [
    {
     "name": "stdout",
     "output_type": "stream",
     "text": [
      "[('you', 266), ('the', 244), ('i', 192), ('a', 167), ('to', 135), ('of', 99), ('it', 94), ('is', 88), ('and', 80), ('that', 78), ('this', 73), ('in', 73), ('what', 68), ('are', 65), ('on', 57), ('we', 55), ('your', 54), ('do', 53), ('not', 52), ('for', 49), ('me', 45), ('know', 44), ('but', 42), ('have', 41), ('all', 38), ('be', 38), ('he', 36), ('my', 35), ('no', 35), ('get', 34), ('just', 34), ('can', 33), ('with', 33), ('about', 31), ('how', 29), ('think', 29), ('will', 29), ('one', 28), ('got', 27), ('so', 27), ('him', 25), ('up', 25), ('here', 24), ('they', 24), ('come', 23), ('like', 22), ('there', 22), ('if', 21), ('more', 21), ('captain', 21), ('was', 20), ('right', 20), ('hydra', 20), ('gonna', 19), ('did', 19), ('his', 19), ('at', 19), ('from', 18), ('than', 18), ('schmidt', 18), ('man', 17), ('as', 17), ('rogers', 17), ('well', 17), ('go', 17), ('sir', 16), ('am', 16), ('yes', 16), ('now', 16), ('out', 15), ('has', 15), ('why', 15), ('some', 15), ('who', 15), ('where', 15), ('good', 15), ('take', 15), ('back', 15), ('little', 14), ('time', 13), ('give', 13), ('then', 13), ('or', 13), ('been', 12), ('thing', 12), ('need', 12), ('see', 12), ('an', 12), ('men', 12), ('power', 12), ('had', 12), ('steve', 12), ('wait', 12), ('agent', 12), ('yeah', 12), ('could', 11), ('war', 11), ('stark', 11), ('thought', 11), ('us', 11), ('two', 11), ('hell', 10), ('colonel', 10), ('must', 10), ('every', 10), ('hey', 10), ('our', 10), ('going', 10), ('only', 10), ('carter', 10), ('were', 10), ('america', 10), ('understand', 9), ('much', 9), ('world', 9), ('look', 9), ('too', 9), ('soldier', 9), ('down', 9), ('dr', 9), ('ready', 9), ('still', 9), ('guys', 8), ('before', 8), ('enough', 8), ('let', 8), ('want', 8), ('kill', 8), ('stop', 8), ('off', 8), ('best', 8), ('many', 7), ('long', 7), ('morning', 7), ('really', 7), ('exactly', 7), ('course', 7), ('lot', 7), ('steven', 7), ('sorry', 7), ('even', 7), ('work', 7), ('when', 7), ('oh', 7), ('tomorrow', 7), ('mr', 7), ('say', 7), ('these', 7), ('girls', 7), ('fight', 7), ('any', 6), ('them', 6), ('help', 6), ('great', 6), ('way', 6), ('cannot', 6), ('fire', 6), ('hundred', 6), ('son', 6), ('doing', 6), ('last', 6), ('new', 6), ('gentlemen', 6), ('brooklyn', 6), ('may', 6), ('army', 6), ('step', 6), ('through', 6), ('doctor', 6), ('by', 6), ('serum', 6), ('because', 6), ('after', 6), ('always', 6), ('would', 6), ('late', 6), ('plan', 6), ('uh', 6), ('friend', 6), ('other', 5), ('never', 5), ('find', 5), ('something', 5), ('already', 5), ('wanna', 5), ('respect', 5), ('shut', 5), ('sergeant', 5), ('barnes', 5), ('should', 5), ('tell', 5), ('ladies', 5), ('few', 5), ('years', 5), ('taking', 5), ('again', 5), ('actually', 5), ('their', 5), ('cause', 5), ('erskine', 5)]\n"
     ]
    }
   ],
   "source": [
    "highest_200 = nltk.FreqDist(unique_tokenized_dialogue).most_common(200)\n",
    "\n",
    "print(highest_200)"
   ]
  },
  {
   "attachments": {},
   "cell_type": "markdown",
   "metadata": {},
   "source": [
    "***\n",
    "\n",
    "**Create a graph that shows the relative frequency of these 200 words.**\n",
    "\n",
    "To do this, we can create a dataframe from the top 200 words and calculate their relative frequencies."
   ]
  },
  {
   "cell_type": "code",
   "execution_count": 318,
   "metadata": {},
   "outputs": [
    {
     "data": {
      "text/html": [
       "<div>\n",
       "<style scoped>\n",
       "    .dataframe tbody tr th:only-of-type {\n",
       "        vertical-align: middle;\n",
       "    }\n",
       "\n",
       "    .dataframe tbody tr th {\n",
       "        vertical-align: top;\n",
       "    }\n",
       "\n",
       "    .dataframe thead th {\n",
       "        text-align: right;\n",
       "    }\n",
       "</style>\n",
       "<table border=\"1\" class=\"dataframe\">\n",
       "  <thead>\n",
       "    <tr style=\"text-align: right;\">\n",
       "      <th></th>\n",
       "      <th>word</th>\n",
       "      <th>freq</th>\n",
       "      <th>rel_freq</th>\n",
       "    </tr>\n",
       "  </thead>\n",
       "  <tbody>\n",
       "    <tr>\n",
       "      <th>0</th>\n",
       "      <td>you</td>\n",
       "      <td>266</td>\n",
       "      <td>0.041119</td>\n",
       "    </tr>\n",
       "    <tr>\n",
       "      <th>1</th>\n",
       "      <td>the</td>\n",
       "      <td>244</td>\n",
       "      <td>0.037718</td>\n",
       "    </tr>\n",
       "    <tr>\n",
       "      <th>2</th>\n",
       "      <td>i</td>\n",
       "      <td>192</td>\n",
       "      <td>0.029680</td>\n",
       "    </tr>\n",
       "    <tr>\n",
       "      <th>3</th>\n",
       "      <td>a</td>\n",
       "      <td>167</td>\n",
       "      <td>0.025815</td>\n",
       "    </tr>\n",
       "    <tr>\n",
       "      <th>4</th>\n",
       "      <td>to</td>\n",
       "      <td>135</td>\n",
       "      <td>0.020869</td>\n",
       "    </tr>\n",
       "    <tr>\n",
       "      <th>5</th>\n",
       "      <td>of</td>\n",
       "      <td>99</td>\n",
       "      <td>0.015304</td>\n",
       "    </tr>\n",
       "    <tr>\n",
       "      <th>6</th>\n",
       "      <td>it</td>\n",
       "      <td>94</td>\n",
       "      <td>0.014531</td>\n",
       "    </tr>\n",
       "    <tr>\n",
       "      <th>7</th>\n",
       "      <td>is</td>\n",
       "      <td>88</td>\n",
       "      <td>0.013603</td>\n",
       "    </tr>\n",
       "    <tr>\n",
       "      <th>8</th>\n",
       "      <td>and</td>\n",
       "      <td>80</td>\n",
       "      <td>0.012367</td>\n",
       "    </tr>\n",
       "    <tr>\n",
       "      <th>9</th>\n",
       "      <td>that</td>\n",
       "      <td>78</td>\n",
       "      <td>0.012058</td>\n",
       "    </tr>\n",
       "  </tbody>\n",
       "</table>\n",
       "</div>"
      ],
      "text/plain": [
       "   word  freq  rel_freq\n",
       "0   you   266  0.041119\n",
       "1   the   244  0.037718\n",
       "2     i   192  0.029680\n",
       "3     a   167  0.025815\n",
       "4    to   135  0.020869\n",
       "5    of    99  0.015304\n",
       "6    it    94  0.014531\n",
       "7    is    88  0.013603\n",
       "8   and    80  0.012367\n",
       "9  that    78  0.012058"
      ]
     },
     "execution_count": 318,
     "metadata": {},
     "output_type": "execute_result"
    }
   ],
   "source": [
    "# create dataframe\n",
    "highest_200_df = pd.DataFrame(highest_200, columns = ['word', 'freq'])\n",
    "\n",
    "#total_200 = highest_200_df['freq'].sum()\n",
    "\n",
    "# add relative frequencies\n",
    "highest_200_df['rel_freq'] = highest_200_df['freq']/len(unique_tokenized_dialogue)\n",
    "\n",
    "highest_200_df[:10]"
   ]
  },
  {
   "attachments": {},
   "cell_type": "markdown",
   "metadata": {},
   "source": [
    "Now let's graph the frequencies of these words."
   ]
  },
  {
   "cell_type": "code",
   "execution_count": 319,
   "metadata": {},
   "outputs": [
    {
     "data": {
      "image/png": "[encoded data removed]",
      "text/plain": [
       "<Figure size 1080x720 with 1 Axes>"
      ]
     },
     "metadata": {
      "needs_background": "light"
     },
     "output_type": "display_data"
    }
   ],
   "source": [
    "plt.figure(figsize=(15,10))\n",
    "plt.plot(highest_200_df['word'], highest_200_df['freq'])\n",
    "plt.xticks(rotation = 90)\n",
    "plt.show()"
   ]
  },
  {
   "attachments": {},
   "cell_type": "markdown",
   "metadata": {},
   "source": [
    "***\n",
    "\n",
    "**Does the observed relative frequency of these words follow Zipf's law? Explain.**"
   ]
  },
  {
   "attachments": {},
   "cell_type": "markdown",
   "metadata": {},
   "source": [
    "[Zipf's Law](https://en.wikipedia.org/wiki/Zipf's_law) says that the when a list of measured values is sorted in decreasing order, the value of the nth entry is inversely proportional to n (the rank of the word).\n",
    "\n",
    "To do this, let's first create a list of ranks for each word. "
   ]
  },
  {
   "cell_type": "code",
   "execution_count": 320,
   "metadata": {},
   "outputs": [],
   "source": [
    "ranks = [rank for rank in range(1,201)]"
   ]
  },
  {
   "attachments": {},
   "cell_type": "markdown",
   "metadata": {},
   "source": [
    "Now let's take the inverse of each rank. To normalize the Zipf prediction using this dataset, we will divide the highest frequency by the rank for each word."
   ]
  },
  {
   "cell_type": "code",
   "execution_count": 321,
   "metadata": {},
   "outputs": [
    {
     "data": {
      "text/html": [
       "<div>\n",
       "<style scoped>\n",
       "    .dataframe tbody tr th:only-of-type {\n",
       "        vertical-align: middle;\n",
       "    }\n",
       "\n",
       "    .dataframe tbody tr th {\n",
       "        vertical-align: top;\n",
       "    }\n",
       "\n",
       "    .dataframe thead th {\n",
       "        text-align: right;\n",
       "    }\n",
       "</style>\n",
       "<table border=\"1\" class=\"dataframe\">\n",
       "  <thead>\n",
       "    <tr style=\"text-align: right;\">\n",
       "      <th></th>\n",
       "      <th>word</th>\n",
       "      <th>freq</th>\n",
       "      <th>rel_freq</th>\n",
       "      <th>zipfs</th>\n",
       "    </tr>\n",
       "  </thead>\n",
       "  <tbody>\n",
       "    <tr>\n",
       "      <th>0</th>\n",
       "      <td>you</td>\n",
       "      <td>266</td>\n",
       "      <td>0.041119</td>\n",
       "      <td>0.041119</td>\n",
       "    </tr>\n",
       "    <tr>\n",
       "      <th>1</th>\n",
       "      <td>the</td>\n",
       "      <td>244</td>\n",
       "      <td>0.037718</td>\n",
       "      <td>0.020560</td>\n",
       "    </tr>\n",
       "    <tr>\n",
       "      <th>2</th>\n",
       "      <td>i</td>\n",
       "      <td>192</td>\n",
       "      <td>0.029680</td>\n",
       "      <td>0.013706</td>\n",
       "    </tr>\n",
       "    <tr>\n",
       "      <th>3</th>\n",
       "      <td>a</td>\n",
       "      <td>167</td>\n",
       "      <td>0.025815</td>\n",
       "      <td>0.010280</td>\n",
       "    </tr>\n",
       "    <tr>\n",
       "      <th>4</th>\n",
       "      <td>to</td>\n",
       "      <td>135</td>\n",
       "      <td>0.020869</td>\n",
       "      <td>0.008224</td>\n",
       "    </tr>\n",
       "    <tr>\n",
       "      <th>5</th>\n",
       "      <td>of</td>\n",
       "      <td>99</td>\n",
       "      <td>0.015304</td>\n",
       "      <td>0.006853</td>\n",
       "    </tr>\n",
       "    <tr>\n",
       "      <th>6</th>\n",
       "      <td>it</td>\n",
       "      <td>94</td>\n",
       "      <td>0.014531</td>\n",
       "      <td>0.005874</td>\n",
       "    </tr>\n",
       "    <tr>\n",
       "      <th>7</th>\n",
       "      <td>is</td>\n",
       "      <td>88</td>\n",
       "      <td>0.013603</td>\n",
       "      <td>0.005140</td>\n",
       "    </tr>\n",
       "    <tr>\n",
       "      <th>8</th>\n",
       "      <td>and</td>\n",
       "      <td>80</td>\n",
       "      <td>0.012367</td>\n",
       "      <td>0.004569</td>\n",
       "    </tr>\n",
       "    <tr>\n",
       "      <th>9</th>\n",
       "      <td>that</td>\n",
       "      <td>78</td>\n",
       "      <td>0.012058</td>\n",
       "      <td>0.004112</td>\n",
       "    </tr>\n",
       "  </tbody>\n",
       "</table>\n",
       "</div>"
      ],
      "text/plain": [
       "   word  freq  rel_freq     zipfs\n",
       "0   you   266  0.041119  0.041119\n",
       "1   the   244  0.037718  0.020560\n",
       "2     i   192  0.029680  0.013706\n",
       "3     a   167  0.025815  0.010280\n",
       "4    to   135  0.020869  0.008224\n",
       "5    of    99  0.015304  0.006853\n",
       "6    it    94  0.014531  0.005874\n",
       "7    is    88  0.013603  0.005140\n",
       "8   and    80  0.012367  0.004569\n",
       "9  that    78  0.012058  0.004112"
      ]
     },
     "execution_count": 321,
     "metadata": {},
     "output_type": "execute_result"
    }
   ],
   "source": [
    "# calculating zipf prediction for each word\n",
    "zipfs = [highest_200_df['rel_freq'][0] / rank for rank in ranks]\n",
    "\n",
    "# add to data frame of frequencies\n",
    "highest_200_df['zipfs'] = zipfs\n",
    "\n",
    "highest_200_df.head(10)"
   ]
  },
  {
   "attachments": {},
   "cell_type": "markdown",
   "metadata": {},
   "source": [
    "Now let's plot the actual frequencies against the predicted frequecies according to Zipf's law. "
   ]
  },
  {
   "cell_type": "code",
   "execution_count": 325,
   "metadata": {},
   "outputs": [
    {
     "data": {
      "image/png": "[encoded data removed]",
      "text/plain": [
       "<Figure size 1080x720 with 1 Axes>"
      ]
     },
     "metadata": {
      "needs_background": "light"
     },
     "output_type": "display_data"
    }
   ],
   "source": [
    "plt.figure(figsize=(15, 10))\n",
    "\n",
    "plt.plot(range(1,201), highest_200_df['rel_freq'], label = \"Actual Frequency\")\n",
    "plt.plot(range(1,201), highest_200_df['zipfs'], linestyle = '--', label = \"Zipf's Law Frequency\")\n",
    "plt.title(\"Actual Frequencies vs. Zipf's Law Predicted Frequencies for Top 200 Words\")\n",
    "plt.xlabel(\"Word Rank\")\n",
    "plt.ylabel(\"Relative Frequency\")\n",
    "plt.legend()\n",
    "plt.show()\n"
   ]
  },
  {
   "attachments": {},
   "cell_type": "markdown",
   "metadata": {},
   "source": [
    "For this corpus, there seems to be many words that appear more frequently than they would if the corpus followed Zipf's law, as shown by the deviation from the predicted curve. \n",
    "\n",
    "Let's also look at this with a log scale."
   ]
  },
  {
   "cell_type": "code",
   "execution_count": 327,
   "metadata": {},
   "outputs": [
    {
     "data": {
      "image/png": "[encoded data removed]",
      "text/plain": [
       "<Figure size 1080x720 with 1 Axes>"
      ]
     },
     "metadata": {
      "needs_background": "light"
     },
     "output_type": "display_data"
    }
   ],
   "source": [
    "plt.figure(figsize=(15, 10))\n",
    "\n",
    "plt.plot(range(1,201), highest_200_df['rel_freq'], label = \"Actual Frequency\")\n",
    "plt.plot(range(1,201), highest_200_df['zipfs'], linestyle = '--', label = \"Zipf's Law Frequency\")\n",
    "plt.xscale('log')\n",
    "plt.yscale('log')\n",
    "plt.title(\"Actual Frequencies vs. Zipf's Law Predicted Frequencies for Top 200 Words\")\n",
    "plt.xlabel(\"Word Rank\")\n",
    "plt.ylabel(\"Relative Frequency\")\n",
    "plt.legend()\n",
    "plt.show()"
   ]
  },
  {
   "attachments": {},
   "cell_type": "markdown",
   "metadata": {},
   "source": [
    "You can see clearly from here that all of the words deviate from their predicted frequencies according to Zipf.\n",
    "\n",
    "***\n",
    "\n",
    "**In what ways do you think the frequency of the words in this corpus differ from \"all words in corpora?\"**\n",
    "\n",
    "Since this is a very small corpus, we cannot accurately infer anything about \"all words in corpora.\" Compared to \"all words in corpora,\" it seems that there are some words here which appear more often than they should appear according to Zipf's Law. Probably, the more words in a corpus, the more it adheres to Zipf's law. "
   ]
  }
 ],
 "metadata": {
  "kernelspec": {
   "display_name": "base",
   "language": "python",
   "name": "python3"
  },
  "language_info": {
   "codemirror_mode": {
    "name": "ipython",
    "version": 3
   },
   "file_extension": ".py",
   "mimetype": "text/x-python",
   "name": "python",
   "nbconvert_exporter": "python",
   "pygments_lexer": "ipython3",
   "version": "3.9.12"
  },
  "orig_nbformat": 4
 },
 "nbformat": 4,
 "nbformat_minor": 2
}
