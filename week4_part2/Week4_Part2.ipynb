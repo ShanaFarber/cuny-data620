{
 "cells": [
  {
   "attachments": {},
   "cell_type": "markdown",
   "metadata": {},
   "source": [
    "# Week 4 - Part 2: High Frequency Words\n",
    "\n",
    "Alice Ding, Shoshana Farber, Christian Uriostegui\n",
    "\n",
    "### Assignment Details:\n",
    "\n",
    "1. Choose a corpus of interest.\n",
    "2. How many unique words are in the corpus?\n",
    "3. Taking the most common words, how many unique words represent half the total words in the corpus?\n",
    "4. Identify the 200 highest frequency words in this corpus.\n",
    "5. Create a graph that shows the relative frequency of these 200 words.\n",
    "6. Does the observed relative frequency of these words follow Zipf's law? Explain.\n",
    "7. In what ways do you think the frequency of the words in this corpus differ from \"all words in corpora?\""
   ]
  },
  {
   "attachments": {},
   "cell_type": "markdown",
   "metadata": {},
   "source": [
    "### Corpus of Interest\n",
    "\n",
    "For this assignment, we chose to use the script for the first Captain America movie. The `.txt` file for the script was found on Kaggle and can be accessed [here](https://www.kaggle.com/datasets/pdunton/marvel-cinematic-universe-dialogue). \n",
    "\n",
    "***\n",
    "\n",
    "### Loading the Text File"
   ]
  },
  {
   "cell_type": "code",
   "execution_count": 97,
   "metadata": {},
   "outputs": [],
   "source": [
    "import nltk\n",
    "import pandas as pd\n",
    "import networkx as nx\n",
    "import matplotlib.pyplot as plt\n",
    "import re\n",
    "import requests\n",
    "\n",
    "url = \"https://raw.githubusercontent.com/ShanaFarber/cuny-data620/main/week4_part2/captain_america.txt\"\n",
    "\n",
    "script = requests.get(url).content\n",
    "\n",
    "script = script.decode()"
   ]
  },
  {
   "cell_type": "code",
   "execution_count": 100,
   "metadata": {},
   "outputs": [],
   "source": [
    "lines = script.split('\\n')"
   ]
  },
  {
   "cell_type": "code",
   "execution_count": 101,
   "metadata": {},
   "outputs": [
    {
     "data": {
      "text/plain": [
       "['[first lines; in the Arctic]',\n",
       " 'Search Team Leader: Are you the guys from Washington?',\n",
       " 'SHIELD Tech: You get many other visitors out here?',\n",
       " 'SHIELD Lieutenant: How long have you been on site?',\n",
       " 'Search Team Leader: Since this morning. A Russian oil team called it in about 18 hours ago.',\n",
       " 'SHIELD Lieutenant: How come nobody spotted it before?',\n",
       " 'Search Team Leader: It’s really not that surprising. This landscape’s changing all the time. You got any ideas what this thing is exactly?',\n",
       " 'SHIELD Lieutenant: I don’t know. It’s probably a weather balloon.',\n",
       " 'Search Team Leader: I don’t think so. You know we don’t have the equipment for a job like this.',\n",
       " 'SHIELD Tech: How long before we can start craning it out?',\n",
       " 'Search Team Leader: I don’t think you quite understand. You guys are gonna need one hell of a crane!',\n",
       " '[as the shot widens we see a massive frozen ship revealed]',\n",
       " '[after breaking into the metal aircraft]',\n",
       " 'SHIELD Lieutenant: [speaking into his comm] Base, we’re in. [looking around] What is this? [The technician nearly slipps on the ice covering the ground] Careful.',\n",
       " 'SHIELD Tech: [finding the frozen shield of Captain America] Lieutenant! What is it?']"
      ]
     },
     "execution_count": 101,
     "metadata": {},
     "output_type": "execute_result"
    }
   ],
   "source": [
    "# preview first few lines\n",
    "lines[:15]"
   ]
  },
  {
   "attachments": {},
   "cell_type": "markdown",
   "metadata": {},
   "source": [
    "\n",
    "For the word analysis, we don't need the descriptions in brackets and we don't need the names of the characters, just the dialogue. \n",
    "\n",
    "First, let's remove the bracketed descriptions."
   ]
  },
  {
   "cell_type": "code",
   "execution_count": 106,
   "metadata": {},
   "outputs": [
    {
     "data": {
      "text/plain": [
       "['Search Team Leader: Are you the guys from Washington?\\n',\n",
       " 'SHIELD Tech: You get many other visitors out here?\\n',\n",
       " 'SHIELD Lieutenant: How long have you been on site?\\n',\n",
       " 'Search Team Leader: Since this morning. A Russian oil team called it in about 18 hours ago.\\n',\n",
       " 'SHIELD Lieutenant: How come nobody spotted it before?\\n',\n",
       " \"Search Team Leader: It's really not that surprising. This landscape's changing all the time. You got any ideas what this thing is exactly?\\n\",\n",
       " \"SHIELD Lieutenant: I don't know. It's probably a weather balloon.\\n\",\n",
       " \"Search Team Leader: I don't think so. You know we don't have the equipment for a job like this.\\n\",\n",
       " 'SHIELD Tech: How long before we can start craning it out?\\n',\n",
       " \"Search Team Leader: I don't think you quite understand. You guys are gonna need one hell of a crane!\\n\",\n",
       " 'SHIELD Lieutenant:  Careful.\\n',\n",
       " 'SHIELD Tech:  Lieutenant! What is it?\\n',\n",
       " 'SHIELD Lieutenant: My God!  Base, give me a line to the Colonel.\\n',\n",
       " \"Voice from Earpiece: It's 3 a.m., sir.\\n\",\n",
       " \"SHIELD Lieutenant: I don't care what time it is. This one's waited long enough.\\n\"]"
      ]
     },
     "execution_count": 106,
     "metadata": {},
     "output_type": "execute_result"
    }
   ],
   "source": [
    "# function to remove bracketed words and some special characters\n",
    "def clean_line(line):\n",
    "    new_line = re.sub('\\[.*\\]', '', line)\n",
    "    new_line = re.sub('’', '\\'', new_line)\n",
    "    new_line = re.sub('…', ' ', new_line)\n",
    "    new_line += '\\n'\n",
    "    return(new_line)\n",
    "\n",
    "# initiate list of cleaned lines\n",
    "cleaned_lines = []\n",
    "\n",
    "# use function to remove bracketed lines\n",
    "# only include lines that are not empty\n",
    "for line in lines:\n",
    "    line = clean_line(line)\n",
    "    if not line.startswith('\\n'):\n",
    "        cleaned_lines.append(line)\n",
    "\n",
    "cleaned_lines[:15]"
   ]
  },
  {
   "attachments": {},
   "cell_type": "markdown",
   "metadata": {},
   "source": [
    "Now we can also remove character names before each line. In order to preserve knowledge of whose line is whose, let's create a dataframe of the script with a column for character and a column for the line they say."
   ]
  },
  {
   "cell_type": "code",
   "execution_count": 107,
   "metadata": {},
   "outputs": [
    {
     "data": {
      "text/plain": [
       "[['Search Team Leader', 'Are you the guys from Washington?'],\n",
       " ['SHIELD Tech', 'You get many other visitors out here?'],\n",
       " ['SHIELD Lieutenant', 'How long have you been on site?'],\n",
       " ['Search Team Leader',\n",
       "  'Since this morning. A Russian oil team called it in about 18 hours ago.'],\n",
       " ['SHIELD Lieutenant', 'How come nobody spotted it before?'],\n",
       " ['Search Team Leader',\n",
       "  \"It's really not that surprising. This landscape's changing all the time. You got any ideas what this thing is exactly?\"],\n",
       " ['SHIELD Lieutenant', \"I don't know. It's probably a weather balloon.\"],\n",
       " ['Search Team Leader',\n",
       "  \"I don't think so. You know we don't have the equipment for a job like this.\"],\n",
       " ['SHIELD Tech', 'How long before we can start craning it out?'],\n",
       " ['Search Team Leader',\n",
       "  \"I don't think you quite understand. You guys are gonna need one hell of a crane!\"],\n",
       " ['SHIELD Lieutenant', ' Careful.'],\n",
       " ['SHIELD Tech', ' Lieutenant! What is it?'],\n",
       " ['SHIELD Lieutenant', 'My God!  Base, give me a line to the Colonel.'],\n",
       " ['Voice from Earpiece', \"It's 3 a.m., sir.\"],\n",
       " ['SHIELD Lieutenant',\n",
       "  \"I don't care what time it is. This one's waited long enough.\"]]"
      ]
     },
     "execution_count": 107,
     "metadata": {},
     "output_type": "execute_result"
    }
   ],
   "source": [
    "# function to split line on :\n",
    "# each line in form of character: dialogue\n",
    "def split_line(line):\n",
    "    split_line = re.sub('\\n', '', line).split(': ')\n",
    "    return(split_line)\n",
    "\n",
    "# initilize empty list\n",
    "split_lines = []\n",
    "\n",
    "# create list of split lines\n",
    "for line in cleaned_lines:\n",
    "    line = split_line(line)\n",
    "    split_lines.append(line)\n",
    "\n",
    "split_lines[:15]"
   ]
  },
  {
   "cell_type": "code",
   "execution_count": 108,
   "metadata": {},
   "outputs": [
    {
     "data": {
      "text/html": [
       "<div>\n",
       "<style scoped>\n",
       "    .dataframe tbody tr th:only-of-type {\n",
       "        vertical-align: middle;\n",
       "    }\n",
       "\n",
       "    .dataframe tbody tr th {\n",
       "        vertical-align: top;\n",
       "    }\n",
       "\n",
       "    .dataframe thead th {\n",
       "        text-align: right;\n",
       "    }\n",
       "</style>\n",
       "<table border=\"1\" class=\"dataframe\">\n",
       "  <thead>\n",
       "    <tr style=\"text-align: right;\">\n",
       "      <th></th>\n",
       "      <th>character</th>\n",
       "      <th>line</th>\n",
       "    </tr>\n",
       "  </thead>\n",
       "  <tbody>\n",
       "    <tr>\n",
       "      <th>0</th>\n",
       "      <td>Search Team Leader</td>\n",
       "      <td>Are you the guys from Washington?</td>\n",
       "    </tr>\n",
       "    <tr>\n",
       "      <th>1</th>\n",
       "      <td>SHIELD Tech</td>\n",
       "      <td>You get many other visitors out here?</td>\n",
       "    </tr>\n",
       "    <tr>\n",
       "      <th>2</th>\n",
       "      <td>SHIELD Lieutenant</td>\n",
       "      <td>How long have you been on site?</td>\n",
       "    </tr>\n",
       "    <tr>\n",
       "      <th>3</th>\n",
       "      <td>Search Team Leader</td>\n",
       "      <td>Since this morning. A Russian oil team called ...</td>\n",
       "    </tr>\n",
       "    <tr>\n",
       "      <th>4</th>\n",
       "      <td>SHIELD Lieutenant</td>\n",
       "      <td>How come nobody spotted it before?</td>\n",
       "    </tr>\n",
       "  </tbody>\n",
       "</table>\n",
       "</div>"
      ],
      "text/plain": [
       "            character                                               line\n",
       "0  Search Team Leader                  Are you the guys from Washington?\n",
       "1         SHIELD Tech              You get many other visitors out here?\n",
       "2   SHIELD Lieutenant                    How long have you been on site?\n",
       "3  Search Team Leader  Since this morning. A Russian oil team called ...\n",
       "4   SHIELD Lieutenant                 How come nobody spotted it before?"
      ]
     },
     "execution_count": 108,
     "metadata": {},
     "output_type": "execute_result"
    }
   ],
   "source": [
    "# turn split lines into data frame\n",
    "dialogue_df = pd.DataFrame(split_lines, columns = ['character', 'line']).dropna()\n",
    "\n",
    "dialogue_df.head()"
   ]
  },
  {
   "attachments": {},
   "cell_type": "markdown",
   "metadata": {},
   "source": [
    "We can now tokenize the words from the dialogue. \n",
    "\n",
    "First, we will concatenate all the dialogue into a single string. "
   ]
  },
  {
   "cell_type": "code",
   "execution_count": 109,
   "metadata": {},
   "outputs": [],
   "source": [
    "dialogue = ''\n",
    "\n",
    "for line in dialogue_df['line']:\n",
    "    dialogue += line.lower() + \" \""
   ]
  },
  {
   "attachments": {},
   "cell_type": "markdown",
   "metadata": {},
   "source": [
    "With **NLTK** library, we can use the `word_tokenize()` function to tokenize text. However, this splits words with apostrophe, so for this text we will use `TweetTokenizer.tokenize()` from **NLTK** to tokenize the words without splitting on the apostrophe."
   ]
  },
  {
   "cell_type": "code",
   "execution_count": 110,
   "metadata": {},
   "outputs": [
    {
     "name": "stdout",
     "output_type": "stream",
     "text": [
      "['are', 'you', 'the', 'guys', 'from', 'washington', '?', 'you', 'get', 'many', 'other', 'visitors', 'out', 'here', '?']\n"
     ]
    }
   ],
   "source": [
    "tokenized_dialogue = nltk.TweetTokenizer().tokenize(dialogue)\n",
    "\n",
    "print(tokenized_dialogue[:15])"
   ]
  },
  {
   "attachments": {},
   "cell_type": "markdown",
   "metadata": {},
   "source": [
    "Let's remove the punctuation, as these are not words. We can get a list of punctuation from the **string** library. "
   ]
  },
  {
   "cell_type": "code",
   "execution_count": 111,
   "metadata": {},
   "outputs": [],
   "source": [
    "# get punctuation symbols\n",
    "from string import punctuation\n",
    "punct = list(punctuation)\n",
    "\n",
    "# create list of unique tokenized words\n",
    "tokenized_dialogue = [token for token in tokenized_dialogue if token not in punct]"
   ]
  },
  {
   "attachments": {},
   "cell_type": "markdown",
   "metadata": {},
   "source": [
    "Now that the words are tokenized, we can now answer the questions from the assignment prompt. \n",
    "\n",
    "***\n",
    "\n",
    "**How many unique words are there in the corpus?**\n",
    "\n",
    "We can use a for loop to create a list of all the unique words in the corpus. "
   ]
  },
  {
   "cell_type": "code",
   "execution_count": 112,
   "metadata": {},
   "outputs": [
    {
     "name": "stdout",
     "output_type": "stream",
     "text": [
      "['are', 'you', 'the', 'guys', 'from', 'washington', 'get', 'many', 'other', 'visitors', 'out', 'here', 'how', 'long', 'have']\n"
     ]
    }
   ],
   "source": [
    "# initialize list\n",
    "unique_words = []\n",
    "\n",
    "# check if word already present, otherwise append to unique list\n",
    "for word in tokenized_dialogue:\n",
    "    if word not in unique_words:\n",
    "        unique_words.append(word)\n",
    "\n",
    "print(unique_words[:15])"
   ]
  },
  {
   "cell_type": "code",
   "execution_count": 113,
   "metadata": {},
   "outputs": [
    {
     "name": "stdout",
     "output_type": "stream",
     "text": [
      "There are 1624 unique words in this corpus.\n"
     ]
    }
   ],
   "source": [
    "print(\"There are\", str(len(unique_words)), \"unique words in this corpus.\")"
   ]
  },
  {
   "attachments": {},
   "cell_type": "markdown",
   "metadata": {},
   "source": [
    "***\n",
    "\n",
    "**Taking the most common words, how many unique words represent half the total words in the corpus?**\n",
    "\n",
    "First, let's determine how many words would make up half the corpus."
   ]
  },
  {
   "cell_type": "code",
   "execution_count": 114,
   "metadata": {},
   "outputs": [
    {
     "name": "stdout",
     "output_type": "stream",
     "text": [
      "There are 6835 total words in this corpus. 3417.5 words would make up half the corpus.\n"
     ]
    }
   ],
   "source": [
    "print(\"There are\", str(len(tokenized_dialogue)), \"total words in this corpus.\", str(len(tokenized_dialogue)/2), \"words would make up half the corpus.\")"
   ]
  },
  {
   "attachments": {},
   "cell_type": "markdown",
   "metadata": {},
   "source": [
    "Now let's count how often each unique word appears in the script and sort by descending count. We can use **NLTK**'s `FreqDist()` function to calculate the frequencies for each word and `most_common()` to order by descending count."
   ]
  },
  {
   "cell_type": "code",
   "execution_count": 121,
   "metadata": {},
   "outputs": [
    {
     "name": "stdout",
     "output_type": "stream",
     "text": [
      "[('you', 266), ('the', 244), ('i', 192), ('a', 167), ('to', 135), ('of', 99), ('it', 94), ('is', 88), ('and', 80), ('that', 78), ('this', 73), ('in', 73), ('what', 68), ('are', 65), ('on', 57), ('we', 55), ('your', 54), ('do', 53), ('not', 52), (\"don't\", 49), ('for', 49), ('me', 45), ('know', 44), ('but', 42), ('have', 41), (\"i'm\", 40), ('all', 38), ('be', 38), (\"it's\", 37), ('he', 36), ('my', 35), ('no', 35), ('get', 34), ('just', 34), ('can', 33), ('with', 33), ('about', 31), (\"you're\", 30), ('how', 29), ('think', 29), ('will', 29), ('one', 28), ('got', 27), ('so', 27), ('him', 25), ('up', 25), ('here', 24), ('they', 24), ('come', 23), ('like', 22), ('there', 22), ('if', 21), ('more', 21), (\"he's\", 21), ('captain', 21), ('was', 20), ('right', 20), (\"that's\", 20), ('hydra', 20), ('gonna', 19), ('did', 19), ('his', 19), ('at', 19), ('from', 18), ('than', 18), ('schmidt', 18), ('man', 17), ('as', 17), ('rogers', 17), ('well', 17), ('go', 17), ('sir', 16), ('am', 16), ('yes', 16), ('now', 16), ('out', 15), ('has', 15), ('why', 15), ('some', 15), ('who', 15), ('where', 15), ('good', 15), ('take', 15), ('back', 15), ('little', 14), ('time', 13), ('give', 13), ('then', 13), (\"we're\", 13), ('or', 13), ('been', 12), ('thing', 12), ('need', 12), ('see', 12), ('an', 12), ('men', 12), ('power', 12), ('had', 12), ('steve', 12), ('wait', 12), ('agent', 12), ('yeah', 12), ('could', 11), ('war', 11), ('stark', 11), (\"i'll\", 11), ('thought', 11), ('us', 11), ('two', 11), ('hell', 10), ('colonel', 10), ('must', 10), ('every', 10), ('hey', 10), ('our', 10), ('going', 10), ('only', 10), ('carter', 10), ('were', 10), ('america', 10), ('understand', 9), ('much', 9), ('world', 9), ('look', 9), ('too', 9), ('soldier', 9), ('down', 9), ('dr', 9), ('ready', 9), ('still', 9), (\"can't\", 9), ('guys', 8), ('before', 8), ('enough', 8), ('let', 8), (\"let's\", 8), (\"there's\", 8), ('want', 8), ('kill', 8), (\"what's\", 8), ('stop', 8), ('off', 8), ('best', 8), ('many', 7), ('long', 7), ('morning', 7), ('really', 7), ('exactly', 7), ('course', 7), ('lot', 7), ('steven', 7), ('sorry', 7), ('even', 7), ('work', 7), ('when', 7), ('oh', 7), ('tomorrow', 7), ('mr', 7), ('say', 7), ('these', 7), ('girls', 7), ('fight', 7), ('any', 6), ('them', 6), ('help', 6), ('great', 6), ('way', 6), ('cannot', 6), ('fire', 6), ('hundred', 6), ('son', 6), ('doing', 6), ('last', 6), ('new', 6), ('gentlemen', 6), (\"didn't\", 6), (\"isn't\", 6), (\"they're\", 6), ('brooklyn', 6), ('may', 6), ('army', 6), ('step', 6), ('through', 6), ('doctor', 6), ('by', 6), ('serum', 6), ('because', 6), ('after', 6), ('always', 6), ('would', 6), ('late', 6), ('plan', 6), ('uh', 6), ('friend', 6), ('other', 5), ('never', 5), ('find', 5), ('something', 5), ('already', 5), ('wanna', 5), ('respect', 5), ('shut', 5), ('sergeant', 5), ('barnes', 5), ('should', 5), ('tell', 5), ('ladies', 5), ('few', 5), ('years', 5), (\"won't\", 5), ('taking', 5), ('again', 5), ('actually', 5), ('their', 5), ('cause', 5), ('erskine', 5), ('five', 5), ('might', 5), ('big', 5), ('guy', 5), ('most', 5), ('division', 5), ('phillips', 5), ('hitler', 5), ('move', 5), ('looking', 5), ('senator', 5), ('head', 5), ('shall', 5), ('behind', 5), ('today', 5), ('hail', 5), ('weapons', 5), ('sure', 5), (\"who'll\", 5), ('trying', 5), ('keep', 5), ('dead', 5), ('team', 4), ('start', 4), ('quite', 4), ('god', 4), ('base', 4), ('line', 4), ('care', 4), ('open', 4), ('place', 4), ('nothing', 4), ('make', 4), ('close', 4), ('maybe', 4), ('führer', 4), ('seen', 4), ('killed', 4), ('over', 4), ('kind', 4), ('chance', 4), (\"you'd\", 4), ('country', 4), ('show', 4), (\"we'll\", 4), ('orders', 4), ('first', 4), ('gotta', 4), ('women', 4), (\"i'd\", 4), ('took', 4), ('bucky', 4), ('her', 4), ('howard', 4), ('told', 4), ('thanks', 4), ('dancing', 4), (\"they'll\", 4), ('win', 4), ('anyone', 4), ('zola', 4), ('those', 4), ('percent', 4), ('attention', 4), ('name', 4), ('adolf', 4), ('faster', 4), ('ride', 4), ('making', 4), ('brandt', 4), ('gave', 4), ('away', 4), ('johann', 4), ('left', 4), ('gods', 4), ('everything', 4), ('yourself', 4), ('against', 4), ('dance', 4), ('save', 4), ('ever', 4), ('into', 4), (\"wasn't\", 4), ('cut', 4), ('being', 4), ('hope', 4), ('without', 4), (\"you've\", 4), ('lines', 4), ('lab', 4), ('buy', 4), ('american', 4), ('pal', 4), ('doin', 4), ('please', 4), ('moving', 4), ('peggy', 4), ('effect', 4), ('hours', 3), (\"one's\", 3), ('science', 3), ('die', 3), ('getting', 3), ('huh', 3), ('anything', 3), ('life', 3), ('europe', 3), ('serve', 3), ('metal', 3), ('play', 3), ('overseas', 3), ('brave', 3), ('forces', 3), ('matter', 3), ('size', 3), ('day', 3), ('pick', 3), ('own', 3), ('times', 3), ('james', 3), ('night', 3), ('future', 3), ('york', 3), ('half', 3), ('better', 3), (\"you'll\", 3), ('point', 3), ('try', 3), ('important', 3), ('red', 3), ('sit', 3), ('factory', 3), ('prove', 3), ('mmm', 3), ('question', 3), ('test', 3), ('congratulations', 3), ('energy', 3), ('twenty', 3), ('change', 3), ('hodge', 3), ('put', 3), ('stand', 3), ('flag', 3), ('rest', 3), ('clear', 3), ('choice', 3), ('front', 3), ('fast', 3), ('ask', 3), ('strong', 3), ('earth', 3), ('bad', 3), ('knows', 3), ('strength', 3), ('perfect', 3), ('drink', 3), ('given', 3), ('running', 3), ('beautiful', 3), ('woman', 3), (\"i've\", 3), (\"we'd\", 3), ('next', 3), ('another', 3), ('hear', 3), ('thirty', 3), ('turn', 3), ('berlin', 3), (\"guy's\", 3), ('whoa', 3), ('hurt', 3), ('call', 3), ('does', 3), ('enemies', 3), ('map', 3), ('code', 3), ('works', 3), ('london', 3), ('around', 3), ('bonds', 3), ('bullets', 3), (\"who's\", 3), ('star-spangled', 3), ('afraid', 3), ('okay', 3), ('alive', 3), ('mission', 3), ('else', 3), ('read', 3), ('done', 3), ('goin', 3), ('anybody', 3), ('shoot', 3), ('‘', 3), ('fondue', 3), (\"haven't\", 3), (\"schmidt's\", 3), ('four', 3), ('moment', 3), ('made', 3), ('area', 3), ('game', 3), ('washington', 2), ('site', 2), ('since', 2), ('called', 2), ('ideas', 2), ('probably', 2), ('weather', 2), ('equipment', 2), ('careful', 2), ('others', 2), ('tree', 2), ('order', 2), ('boy', 2), ('makes', 2), ('twice', 2), ('nope', 2), ('seventh', 2), ('ward', 2), ('hit', 2), (\"couldn't\", 2), ('shake', 2), ('alone', 2), ('lining', 2), ('timmy', 2), ('scrap', 2), ('nice', 2), ('boys', 2), ('axis', 2), ('powers', 2), ('buddy', 2), ('together', 2), ('allied', 2), ('face', 2), ('threat', 2), ('someone', 2), ('ropes', 2), ('paramus', 2), ('lie', 2), ('enlistment', 2), ('problem', 2), ('three', 2), ('stuff', 2), ('welcome', 2), ('starting', 2), ('love', 2), ('touch', 2), ('technology', 2), ('able', 2), ('cow', 2), ('missing', 2), ('double', 2), ('date', 2), ('catch', 2), ('worse', 2), ('alley', 2), ('less', 2), ('stupid', 2), ('until', 2), ('till', 2), ('song', 2), ('nazis', 2), ('excuse', 2), ('exams', 2), ('interested', 2), ('fighting', 2), ('seem', 2), ('certain', 2), ('yours', 2), ('fear', 2), ('forty', 2), ('sixty', 2), ('designs', 2), ('exchange', 2), ('forward', 2), ('foot', 2), ('ass', 2), ('somebody', 2), ('comes', 2), ('rifle', 2), ('squad', 2), ('means', 2), ('bring', 2), ('gets', 2), ('thinking', 2), ('brought', 2), (\"he'll\", 2), ('stick', 2), ('beyond', 2), ('set', 2), ('project', 2), ('committees', 2), ('grenade', 2), ('guess', 2), ('suppose', 2), ('hears', 2), ('says', 2), ('research', 2), ('brilliant', 2), ('become', 2), ('waiting', 2), ('superior', 2), ('stronger', 2), ('effects', 2), ('inside', 2), ('becomes', 2), ('lose', 2), ('whatever', 2), ('procedure', 2), ('defence', 2), ('possess', 2), ('victory', 2), ('door', 2), ('dame', 2), ('idea', 2), ('conversation', 2), ('asking', 2), ('past', 2), ('partner', 2), ('follow', 2), ('carry', 2), ('needed', 2), ('grid', 2), ('people', 2), ('funds', 2), ('state', 2), ('used', 2), ('kid', 2), ('comfortable', 2), ('levels', 2), ('100', 2), ('series', 2), ('ten', 2), ('seventy', 2), ('reactor', 2), ('taller', 2), ('folks', 2), ('very', 2), ('thank', 2), ('its', 2), ('herr', 2), ('facility', 2), ('reward', 2), ('longer', 2), ('across', 2), ('mad', 2), ('further', 2), ('german', 2), ('number', 2), (\"hydra's\", 2), ('spoke', 2), ('hero', 2), ('shield', 2), ('each', 2), ('bullet', 2), ('barrel', 2), ('gun', 2), ('shore', 2), ('hang', 2), ('bond', 2), ('drop', 2), ('true', 2), ('far', 2), ('finish', 2), ('um', 2), ('same', 2), ('sign', 2), ('worry', 2), ('hi', 2), ('bit', 2), (\"america's\", 2), ('least', 2), ('options', 2), ('meant', 2), ('coming', 2), ('wanted', 2), ('sent', 2), ('force', 2), ('azzano', 2), ('went', 2), ('one-oh-seventh', 2), ('captured', 2), ('count', 2), ('minutes', 2), ('mean', 2), ('trouble', 2), ('em', 2), ('somethin', 2), ('lead', 2), ('straight', 2), ('valkyrie', 2), ('schedule', 2), ('use', 2), ('ah', 2), ('supposed', 2), ('zündung', 2), ('grab', 2), ('regret', 2), ('third', 2), ('action', 2), ('damn', 2), ('faith', 2), ('said', 2), ('under', 2), ('wipe', 2), ('putting', 2), ('sounds', 2), ('fun', 2), ('hard', 2), (\"she's\", 2), ('which', 2), ('allow', 2), (\"we've\", 2), ('yet', 2), ('window', 2), ('bugs', 2), ('hand', 2), ('realize', 2), ('tried', 2), (\"wouldn't\", 2), ('target', 2), ('plane', 2), ('rain', 2), ('blackout', 2), ('throughout', 2), ('feet', 2), ('alright', 2), ('safe', 2), ('landing', 2), ('dodgers', 2), ('agents', 2), ('13', 2), ('break', 2), ('visitors', 1), ('russian', 1), ('oil', 1), ('18', 1), ('ago', 1), ('nobody', 1), ('spotted', 1), ('surprising', 1), (\"landscape's\", 1), ('changing', 1), ('balloon', 1), ('job', 1), ('craning', 1), ('crane', 1), ('lieutenant', 1), ('3', 1), ('m', 1), ('waited', 1), ('quickly', 1), ('taken', 1), ('vision', 1), ('alike', 1), ('superstition', 1), ('seek', 1), ('legend', 1), ('such', 1), ('effort', 1), ('conceal', 1), ('buries', 1), ('village', 1), ('friends', 1), ('grandchildren', 1), ('perhaps', 1), ('yggdrasil', 1), ('guardian', 1), ('wisdom', 1), ('fate', 1), ('also', 1), ('digs', 1), ('trinkets', 1), ('desert', 1), ('eyes', 1), ('ordinary', 1), ('gove', 1), ('jawohl', 1), ('fool', 1), ('control', 1), ('hold', 1), ('burn', 1), (\"o'connel\", 1), ('michael', 1), ('kaminsky', 1), ('henry', 1), ('enlisting', 1), ('father', 1), ('mustard', 1), ('gas', 1), ('infantry', 1), ('hoping', 1), ('assigned', 1), ('mother', 1), ('she', 1), ('nurse', 1), ('tb', 1), ('ineligible', 1), ('asthma', 1), ('saving', 1), ('continues', 1), ('ravage', 1), ('able-bodied', 1), ('young', 1), ('part', 1), ('collecting', 1), ('cares', 1), ('movie', 1), ('meanwhile', 1), ('showing', 1), ('price', 1), ('freedom', 1), ('high', 1), ('cartoon', 1), ('sometimes', 1), ('punched', 1), ('illegal', 1), ('form', 1), ('seriously', 1), ('jersey', 1), ('one-o-seventh', 1), ('shipping', 1), ('england', 1), ('cleaned', 1), ('eligible', 1), ('million', 1), ('settle', 1), ('modern', 1), ('marvels', 1), ('paviliion', 1), ('greater', 1), ('short', 1), ('automobile', 1), ('ground', 1), ('mandy', 1), ('robotic', 1), ('reversion', 1), ('holy', 1), ('treat', 1), ('ahead', 1), ('fair', 1), ('luck', 1), ('ohio', 1), ('keen', 1), ('jobs', 1), ('collect', 1), ('wagon', 1), ('laying', 1), ('lives', 1), ('sarge', 1), ('punk', 1), ('jerk', 1), ('playing', 1), ('abraham', 1), ('represent', 1), ('strategic', 1), ('scientific', 1), ('reserve', 1), ('queens', 1), ('73rd', 1), ('street', 1), ('utopia', 1), ('parkway', 1), ('germany', 1), ('troubles', 1), ('haven', 1), ('different', 1), ('cities', 1), ('file', 1), ('tries', 1), ('answer', 1), ('bullies', 1), ('offer', 1), ('machine', 1), ('requires', 1), ('delicate', 1), ('calibration', 1), ('forgive', 1), ('overcautious', 1), ('conductors', 1), ('withstand', 1), ('surge', 1), ('transference', 1), ('artifact', 1), ('stabilising', 1), ('70', 1), ('congratulate', 1), ('arnim', 1), ('disappoint', 1), ('though', 1), ('require', 1), ('slight', 1), ('reinforcement', 1), ('stable', 1), ('amazing', 1), ('collected', 1), ('design', 1), ('exercise', 1), ('recruits', 1), ('supervise', 1), ('operations', 1), ('accent', 1), ('queen', 1), ('victoria', 1), ('signing', 1), ('u', 1), ('s', 1), ('gilmore', 1), ('majesty', 1), ('wrassle', 1), ('moves', 1), ('breaking', 1), ('candidates', 1), ('dirt', 1), ('til', 1), ('tells', 1), ('mud', 1), ('personally', 1), ('escort', 1), ('gates', 1), ('pace', 1), ('halt', 1), ('halfway', 1), ('grandmother', 1), ('soul', 1), ('picking', 1), ('ninety-pound', 1), ('asthmatic', 1), ('onto', 1), ('slide', 1), ('useful', 1), ('gerbil', 1), ('needle', 1), ('kids', 1), ('arm', 1), ('cry', 1), ('qualities', 1), ('physical', 1), ('groveling', 1), (\"what's-his-name's\", 1), ('aware', 1), ('efforts', 1), ('throw', 1), ('bone', 1), ('passed', 1), ('obeys', 1), ('bully', 1), ('wars', 1), ('niceness', 1), ('dummy', 1), ('formation', 1), ('skinny', 1), ('sleep', 1), ('jitters', 1), ('matters', 1), ('finds', 1), ('sends', 1), ('scientist', 1), ('member', 1), ('inner', 1), ('circle', 1), ('ambitious', 1), ('share', 1), ('passion', 1), ('occult', 1), ('teutonic', 1), ('myth', 1), ('uses', 1), ('fantasies', 1), ('inspire', 1), ('followers', 1), ('fantasy', 1), ('real', 1), ('convinced', 1), ('hidden', 1), ('seized', 1), ('formula', 1), ('resist', 1), ('amplifies', 1), ('chosen', 1), ('known', 1), ('weak', 1), ('value', 1), ('compassion', 1), ('happens', 1), ('promise', 1), ('stay', 1), ('fluids', 1), ('found', 1), ('disapprove', 1), ('concern', 1), ('imagine', 1), ('succeed', 1), ('allies', 1), ('assured', 1), ('masterpiece', 1), ('neighborhood', 1), ('beat', 1), ('parking', 1), ('diner', 1), ('push', 1), ('forever', 1), ('join', 1), ('talk', 1), ('longers', 1), (\"aren't\", 1), ('danced', 1), ('seems', 1), ('terrifying', 1), ('figured', 1), ('wonderful', 1), ('umbrella', 1), ('shirt', 1), ('tie', 1), ('hat', 1), ('glad', 1), ('access', 1), (\"city's\", 1), ('generators', 1), ('requisitioned', 1), ('fred', 1), ('clemson', 1), ('department', 1), ('headlines', 1), ('jesus', 1), ('sandwich', 1), ('schnapps', 1), ('dim', 1), ('lights', 1), ('booth', 1), ('towards', 1), ('annihilation', 1), ('path', 1), ('peace', 1), ('begin', 1), ('micro', 1), ('injections', 1), ('subjects', 1), ('major', 1), ('muscle', 1), ('groups', 1), ('infusion', 1), ('immediate', 1), ('cellular', 1), ('stimulate', 1), ('growth', 1), ('subject', 1), ('saturated', 1), ('vita-rays', 1), ('penicillin', 1), ('bathroom', 1), ('proceed', 1), ('40', 1), ('vital', 1), ('signs', 1), ('normal', 1), ('50', 1), ('eighty', 1), ('ninety', 1), ('bitch', 1), ('feel', 1), ('nervous', 1), ('shot', 1), ('swim', 1), ('accustomed', 1), ('ignored', 1), ('promised', 1), ('pleasure', 1), ('injuries', 1), ('exile', 1), ('reflect', 1), ('image', 1), ('aryan', 1), ('perfection', 1), ('appearances', 1), ('failed', 1), ('deliver', 1), ('year', 1), ('learned', 1), ('local', 1), ('intelligence', 1), ('mounted', 1), ('full-scale', 1), ('incursion', 1), ('norway', 1), ('feels', 1), ('skull', 1), ('indulged', 1), ('results', 1), ('speaks', 1), ('thousand-year', 1), ('reich', 1), ('feed', 1), ('month', 1), ('troops', 1), ('spill', 1), ('blood', 1), ('field', 1), ('closer', 1), ('achieving', 1), ('goals', 1), ('aim', 1), ('end', 1), ('magic', 1), ('confusion', 1), ('baffled', 1), ('primitive', 1), ('assembling', 1), ('arsenal', 1), ('destroy', 1), ('stroke', 1), ('regardless', 1), ('contain', 1), ('destructive', 1), ('decimate', 1), ('hostile', 1), ('capital', 1), ('simply', 1), ('harnessed', 1), ('obviously', 1), ('punished', 1), ('insolence', 1), ('himself', 1), ('apolpgies', 1), ('both', 1), ('knew', 1), ('grow', 1), (\"hitler's\", 1), ('shadow', 1), ('reproducing', 1), ('program', 1), ('locked', 1), ('genetic', 1), ('deserved', 1), ('once', 1), (\"he'd\", 1), ('proud', 1), ('committee', 1), ('demanding', 1), ('answers', 1), ('spy', 1), ('secret', 1), ('installation', 1), ('car', 1), ('speaking', 1), ('modestly', 1), ('mechanical', 1), ('engineer', 1), ('reading', 1), ('briefings', 1), ('nazi', 1), ('deep', 1), ('led', 1), ('bigger', 1), ('ambitions', 1), ('practically', 1), ('cult', 1), ('worship', 1), ('invincible', 1), ('president', 1), ('ssr', 1), ('retasked', 1), ('pack', 1), ('bags', 1), ('flying', 1), ('tonight', 1), ('experiment', 1), ('alamogordo', 1), ('worked', 1), ('asked', 1), ('block', 1), ('picture', 1), ('newsstands', 1), ('symbol', 1), ('hide', 1), ('battlefield', 1), ('promoted', 1), ('sell', 1), ('kills', 1), (\"nazi's\", 1), ('bing', 1), ('bang', 1), ('boom', 1), ('pictured', 1), (\"senator's\", 1), ('pull', 1), ('hill', 1), ('ball', 1), ('leading', 1), ('platoon', 1), ('storm', 1), ('beach', 1), ('drive', 1), ('tank', 1), ('vows', 1), ('e', 1), ('campaign', 1), ('door-to-door', 1), ('hoboken', 1), ('spokane', 1), ('star-spangeld', 1), ('ath', 1), ('camera', 1), ('ignore', 1), ('noose', 1), ('goose-stepping', 1), ('goons', 1), ('redeem', 1), ('heed', 1), ('rise', 1), ('fall', 1), ('bandages', 1), ('tanks', 1), ('tents', 1), ('protect', 1), ('armed', 1), ('germans', 1), ('stalwart', 1), ('steady', 1), ('forcefull', 1), ('defend', 1), ('white', 1), ('blue', 1), ('sack', 1), ('smart', 1), ('fox', 1), ('eagle', 1), ('soar', 1), ('box', 1), ('waked', 1), ('giant', 1), ('napped', 1), ('began', 1), ('kick', 1), ('krauts', 1), ('japan', 1), ('aplan', 1), ('sock', 1), ('old', 1), ('jaw', 1), ('volunteer', 1), ('volunteered', 1), ('sweetheart', 1), ('boots', 1), ('tinker', 1), ('bell', 1), ('warm', 1), ('hello', 1), ('officially', 1), ('performance', 1), ('improvise', 1), ('crowds', 1), ('usually', 1), ('twelve', 1), ('sales', 1), ('bump', 1), ('visit', 1), ('stuck', 1), ('rat', 1), ('monkey', 1), ('longest', 1), ('dreamed', 1), ('serving', 1), ('finally', 1), ('wearing', 1), ('tights', 1), (\"they've\", 1), ('fifty', 1), ('returned', 1), ('audience', 1), ('contained', 1), ('casualty', 1), ('list', 1), ('later', 1), ('enjoy', 1), ('b-a-r', 1), ('spell', 1), ('signed', 1), ('condolence', 1), ('letters', 1), ('sound', 1), ('familiar', 1), ('planning', 1), ('rescue', 1), ('winning', 1), ('miles', 1), ('heavily', 1), ('fortified', 1), ('territory', 1), ('expect', 1), ('chorus', 1), ('girl', 1), ('fine', 1), ('somewhere', 1), ('posters', 1), ('correctly', 1), ('walk', 1), ('austria', 1), ('takes', 1), ('heard', 1), ('likely', 1), ('devising', 1), ('strategy', 1), ('detects', 1), ('word', 1), ('stage', 1), (\"where's\", 1), ('helmet', 1), ('camp', 1), ('krausberg', 1), ('tucked', 1), ('between', 1), ('mountain', 1), ('ranges', 1), ('doorstep', 1), ('yells', 1), ('undoubtedly', 1), ('hurry', 1), ('lucerne', 1), ('civilian', 1), ('pilot', 1), ('airspace', 1), ('lucky', 1), ('transponder', 1), ('activate', 1), ('signal', 1), ('tested', 1), ('soon', 1), ('free', 1), ('outta', 1), ('production', 1), ('progressing', 1), ('components', 1), ('increase', 1), ('output', 1), ('60', 1), ('facilities', 1), ('prisoners', 1), ('workers', 1), ('fritz', 1), ('days', 1), ('fellas', 1), ('beg', 1), ('pardon', 1), ('everybody', 1), ('fresno', 1), ('ace', 1), ('isolation', 1), ('northwest', 1), ('80', 1), ('yards', 1), ('gate', 1), ('meet', 1), ('clearing', 1), ('knocked', 1), ('buick', 1), ('ignition', 1), ('dugan', 1), ('semesters', 1), ('howards', 1), ('switched', 1), ('french', 1), ('cuter', 1), ('resume', 1), ('outmatched', 1), ('grenades', 1), ('32557', 1), ('smaller', 1), ('happened', 1), ('joined', 1), ('permanent', 1), ('exciting', 1), ('fan', 1), ('films', 1), ('managed', 1), ('improvement', 1), ('impressive', 1), ('deluded', 1), ('pretend', 1), ('simple', 1), ('reality', 1), ('admit', 1), ('humanity', 1), ('unlike', 1), ('embrace', 1), ('proudly', 1), ('roof', 1), ('rope', 1), ('report', 1), ('g', 1), ('enemy', 1), ('aerial', 1), ('reconnaissance', 1), ('proven', 1), ('unfruitful', 1), ('result', 1), ('declare', 1), ('period', 1), ('surveillance', 1), ('flight', 1), ('activity', 1), ('cup', 1), ('coffee', 1), ('corporal', 1), ('rich', 1), (\"army's\", 1), ('contractor', 1), ('neither', 1), ('actions', 1), ('either', 1), ('opinions', 1), ('golden', 1), ('crush', 1), ('comfort', 1), ('theres', 1), ('medical', 1), ('medic', 1), ('wounded', 1), ('surrender', 1), ('myself', 1), ('disciplinary', 1), ('necessary', 1), ('fifth', 1), ('poland', 1), ('near', 1), ('baltic', 1), ('quick', 1), (\"nobody's\", 1), ('weapon', 1), ('factories', 1), ('shipped', 1), ('parts', 1), ('coordinate', 1), ('mi6', 1), ('eyeball', 1), ('main', 1), ('due', 1), ('barely', 1), ('pretty', 1), ('rather', 1), ('tab', 1), ('easy', 1), ('round', 1), ('idiots', 1), ('jaws', 1), ('death', 1), ('dumb', 1), ('run', 1), ('following', 1), ('keeping', 1), ('outfit', 1), ('growing', 1), (\"ma'am\", 1), ('top', 1), ('prepping', 1), ('duty', 1), ('music', 1), (\"ma'm\", 1), ('invisible', 1), ('turning', 1), ('horrible', 1), ('dream', 1), ('write', 1), ('sounded', 1), ('saved', 1), ('nearly', 1), ('deal', 1), ('wives', 1), ('married', 1), ('depends', 1), ('definition', 1), ('owe', 1), ('seeing', 1), ('looks', 1), ('finding', 1), ('fonduing', 1), ('bloody', 1), ('cheese', 1), ('bread', 1), ('nor', 1), (\"woman's\", 1), ('goose', 1), ('truly', 1), ('cooked', 1), ('concentrate', 1), ('carbon', 1), ('polymer', 1), ('kinda', 1), ('attached', 1), ('handier', 1), ('liberty', 1), ('fitted', 1), ('electrical', 1), ('relays', 1), (\"it'll\", 1), ('prototype', 1), ('vibranium', 1), ('steel', 1), ('weight', 1), ('completely', 1), ('vibration', 1), ('absorbent', 1), ('standard', 1), ('issue', 1), ('rarest', 1), ('holding', 1), ('finished', 1), ('unfinished', 1), ('business', 1), ('uniform', 1), ('failing', 1), ('offensive', 1), ('network', 1), ('planet', 1), ('continually', 1), ('delayed', 1), ('outwit', 1), ('simpleton', 1), ('hardly', 1), ('expertise', 1), ('merely', 1), ('develop', 1), ('finishes', 1), ('fought', 1), ('evidently', 1), ('remember', 1), ('cyclone', 1), ('coney', 1), ('island', 1), ('threw', 1), ('payback', 1), (\"zola's\", 1), ('train', 1), ('dispatcher', 1), ('permission', 1), ('throttle', 1), ('wherever', 1), ('devil', 1), ('10', 1), ('second', 1), ('miss', 1), ('windshield', 1), ('mind', 1), ('gap', 1), ('maintenant', 1), ('steak', 1), ('difficult', 1), ('ahold', 1), ('prime', 1), ('eat', 1), ('meat', 1), ('disagrees', 1), ('cyanide', 1), ('rumbly', 1), ('tummy', 1), ('crunched', 1), ('pill', 1), (\"here's\", 1), ('theory', 1), ('live', 1), ('intimidate', 1), ('bought', 1), ('dinner', 1), ('variable', 1), ('information', 1), ('provided', 1), ('full', 1), ('cooperation', 1), ('remanded', 1), ('switzerland', 1), ('message', 1), ('encoded', 1), ('broken', 1), ('codes', 1), ('awkward', 1), ('anyway', 1), ('doc', 1), ('liability', 1), ('cost', 1), ('closest', 1), ('protection', 1), ('dealt', 1), ('believes', 1), ('walks', 1), ('steps', 1), ('itself', 1), ('satisfy', 1), ('nuts', 1), ('sanity', 1), ('consequence', 1), ('everywhere', 1), ('master', 1), ('born', 1), ('wings', 1), ('powerless', 1), ('hundreds', 1), ('upon', 1), ('all-clear', 1), ('citizens', 1), ('remain', 1), ('indoors', 1), ('notice', 1), ('muscles', 1), ('cells', 1), ('create', 1), ('protective', 1), ('system', 1), ('regeneration', 1), ('healing', 1), ('drunk', 1), ('metabolism', 1), ('burns', 1), ('average', 1), ('person', 1), ('side', 1), ('fault', 1), ('reports', 1), ('believe', 1), ('blaming', 1), ('dignity', 1), ('worth', 1), ('belongs', 1), ('bug', 1), ('house', 1), ('thinks', 1), ('willing', 1), ('blow', 1), ('usa', 1), ('working', 1), ('capabilities', 1), ('atlantic', 1), ('entire', 1), ('eastern', 1), ('sea', 1), ('board', 1), ('hour', 1), ('according', 1), ('alps', 1), ('below', 1), ('surface', 1), ('knock', 1), ('arrogance', 1), ('uniquely', 1), ('trait', 1), ('limits', 1), ('otherwise', 1), ('insane', 1), ('resented', 1), ('genius', 1), ('deny', 1), ('rightfully', 1), ('mine', 1), ('special', 1), ('nothin', 1), ('unfortunately', 1), ('tight', 1), ('assault', 1), ('spacing', 1), ('cutt', 1), (\"weren't\", 1), ('kissin', 1), ('wear', 1), ('chest', 1), ('battle', 1), ('nations', 1), ('flags', 1), ('tougher', 1), ('explain', 1), ('coordinates', 1), (\"thing's\", 1), ('heading', 1), ('water', 1), ('middle', 1), ('nowhere', 1), ('check', 1), ('week', 1), ('saturday', 1), ('stork', 1), ('club', 1), ('eight', 1), (\"o'clock\", 1), ('dot', 1), ('dare', 1), ('understood', 1), ('band', 1), ('slow', 1), ('hate', 1), ('trace', 1), ('wreckage', 1), ('signature', 1), ('stops', 1), ('afternoon', 1), ('recovery', 1), ('room', 1), ('city', 1), ('8-4', 1), ('everyone', 1), ('indeed', 1), ('nineteen', 1), ('repeat', 1), ('ease', 1), ('slowly', 1), ('asleep', 1), ('cap', 1), ('almost', 1), ('sleeping', 1)]\n"
     ]
    }
   ],
   "source": [
    "unique_word_count = nltk.FreqDist(tokenized_dialogue).most_common()"
   ]
  },
  {
   "attachments": {},
   "cell_type": "markdown",
   "metadata": {},
   "source": [
    "Now let's create a for loop to see when the sum of the frequencies of the most common words will be about half the corpus. We will also use a counter to count how many words this is so we can see how many words make up half the corpus."
   ]
  },
  {
   "cell_type": "code",
   "execution_count": 122,
   "metadata": {},
   "outputs": [
    {
     "name": "stdout",
     "output_type": "stream",
     "text": [
      "70 words make up approximately half the corpus.\n"
     ]
    }
   ],
   "source": [
    "# initiate counter\n",
    "count = 0\n",
    "# initiate total number of words\n",
    "total = 0\n",
    "\n",
    "for word, freq in unique_word_count:\n",
    "    total += freq\n",
    "    if total <= (len(tokenized_dialogue)/2): \n",
    "        count += 1 # add to counter only if the number of words is still less than\n",
    "    else:\n",
    "        break\n",
    "\n",
    "print(str(count), \"words make up approximately half the corpus.\")"
   ]
  },
  {
   "attachments": {},
   "cell_type": "markdown",
   "metadata": {},
   "source": [
    "***\n",
    "\n",
    "**Identify the 200 highest frequency words in this corpus.**\n",
    "\n",
    "We can do this by creating a frequency distribution using **NLTK**'s `FreqDist()` and using the `most_common()` function to grab the top 200."
   ]
  },
  {
   "cell_type": "code",
   "execution_count": 124,
   "metadata": {},
   "outputs": [
    {
     "name": "stdout",
     "output_type": "stream",
     "text": [
      "[('you', 266), ('the', 244), ('i', 192), ('a', 167), ('to', 135), ('of', 99), ('it', 94), ('is', 88), ('and', 80), ('that', 78), ('this', 73), ('in', 73), ('what', 68), ('are', 65), ('on', 57), ('we', 55), ('your', 54), ('do', 53), ('not', 52), (\"don't\", 49), ('for', 49), ('me', 45), ('know', 44), ('but', 42), ('have', 41), (\"i'm\", 40), ('all', 38), ('be', 38), (\"it's\", 37), ('he', 36), ('my', 35), ('no', 35), ('get', 34), ('just', 34), ('can', 33), ('with', 33), ('about', 31), (\"you're\", 30), ('how', 29), ('think', 29), ('will', 29), ('one', 28), ('got', 27), ('so', 27), ('him', 25), ('up', 25), ('here', 24), ('they', 24), ('come', 23), ('like', 22), ('there', 22), ('if', 21), ('more', 21), (\"he's\", 21), ('captain', 21), ('was', 20), ('right', 20), (\"that's\", 20), ('hydra', 20), ('gonna', 19), ('did', 19), ('his', 19), ('at', 19), ('from', 18), ('than', 18), ('schmidt', 18), ('man', 17), ('as', 17), ('rogers', 17), ('well', 17), ('go', 17), ('sir', 16), ('am', 16), ('yes', 16), ('now', 16), ('out', 15), ('has', 15), ('why', 15), ('some', 15), ('who', 15), ('where', 15), ('good', 15), ('take', 15), ('back', 15), ('little', 14), ('time', 13), ('give', 13), ('then', 13), (\"we're\", 13), ('or', 13), ('been', 12), ('thing', 12), ('need', 12), ('see', 12), ('an', 12), ('men', 12), ('power', 12), ('had', 12), ('steve', 12), ('wait', 12), ('agent', 12), ('yeah', 12), ('could', 11), ('war', 11), ('stark', 11), (\"i'll\", 11), ('thought', 11), ('us', 11), ('two', 11), ('hell', 10), ('colonel', 10), ('must', 10), ('every', 10), ('hey', 10), ('our', 10), ('going', 10), ('only', 10), ('carter', 10), ('were', 10), ('america', 10), ('understand', 9), ('much', 9), ('world', 9), ('look', 9), ('too', 9), ('soldier', 9), ('down', 9), ('dr', 9), ('ready', 9), ('still', 9), (\"can't\", 9), ('guys', 8), ('before', 8), ('enough', 8), ('let', 8), (\"let's\", 8), (\"there's\", 8), ('want', 8), ('kill', 8), (\"what's\", 8), ('stop', 8), ('off', 8), ('best', 8), ('many', 7), ('long', 7), ('morning', 7), ('really', 7), ('exactly', 7), ('course', 7), ('lot', 7), ('steven', 7), ('sorry', 7), ('even', 7), ('work', 7), ('when', 7), ('oh', 7), ('tomorrow', 7), ('mr', 7), ('say', 7), ('these', 7), ('girls', 7), ('fight', 7), ('any', 6), ('them', 6), ('help', 6), ('great', 6), ('way', 6), ('cannot', 6), ('fire', 6), ('hundred', 6), ('son', 6), ('doing', 6), ('last', 6), ('new', 6), ('gentlemen', 6), (\"didn't\", 6), (\"isn't\", 6), (\"they're\", 6), ('brooklyn', 6), ('may', 6), ('army', 6), ('step', 6), ('through', 6), ('doctor', 6), ('by', 6), ('serum', 6), ('because', 6), ('after', 6), ('always', 6), ('would', 6), ('late', 6), ('plan', 6), ('uh', 6), ('friend', 6), ('other', 5), ('never', 5), ('find', 5), ('something', 5), ('already', 5), ('wanna', 5)]\n"
     ]
    }
   ],
   "source": [
    "highest_200 = nltk.FreqDist(tokenized_dialogue).most_common(200)\n",
    "\n",
    "print(highest_200)"
   ]
  },
  {
   "attachments": {},
   "cell_type": "markdown",
   "metadata": {},
   "source": [
    "***\n",
    "\n",
    "**Create a graph that shows the relative frequency of these 200 words.**\n",
    "\n",
    "To do this, we can create a dataframe from the top 200 words and calculate their relative frequencies."
   ]
  },
  {
   "cell_type": "code",
   "execution_count": 132,
   "metadata": {},
   "outputs": [
    {
     "data": {
      "text/html": [
       "<div>\n",
       "<style scoped>\n",
       "    .dataframe tbody tr th:only-of-type {\n",
       "        vertical-align: middle;\n",
       "    }\n",
       "\n",
       "    .dataframe tbody tr th {\n",
       "        vertical-align: top;\n",
       "    }\n",
       "\n",
       "    .dataframe thead th {\n",
       "        text-align: right;\n",
       "    }\n",
       "</style>\n",
       "<table border=\"1\" class=\"dataframe\">\n",
       "  <thead>\n",
       "    <tr style=\"text-align: right;\">\n",
       "      <th></th>\n",
       "      <th>word</th>\n",
       "      <th>count</th>\n",
       "      <th>rel_freq</th>\n",
       "    </tr>\n",
       "  </thead>\n",
       "  <tbody>\n",
       "    <tr>\n",
       "      <th>0</th>\n",
       "      <td>you</td>\n",
       "      <td>266</td>\n",
       "      <td>0.038917</td>\n",
       "    </tr>\n",
       "    <tr>\n",
       "      <th>1</th>\n",
       "      <td>the</td>\n",
       "      <td>244</td>\n",
       "      <td>0.035699</td>\n",
       "    </tr>\n",
       "    <tr>\n",
       "      <th>2</th>\n",
       "      <td>i</td>\n",
       "      <td>192</td>\n",
       "      <td>0.028091</td>\n",
       "    </tr>\n",
       "    <tr>\n",
       "      <th>3</th>\n",
       "      <td>a</td>\n",
       "      <td>167</td>\n",
       "      <td>0.024433</td>\n",
       "    </tr>\n",
       "    <tr>\n",
       "      <th>4</th>\n",
       "      <td>to</td>\n",
       "      <td>135</td>\n",
       "      <td>0.019751</td>\n",
       "    </tr>\n",
       "    <tr>\n",
       "      <th>...</th>\n",
       "      <td>...</td>\n",
       "      <td>...</td>\n",
       "      <td>...</td>\n",
       "    </tr>\n",
       "    <tr>\n",
       "      <th>195</th>\n",
       "      <td>never</td>\n",
       "      <td>5</td>\n",
       "      <td>0.000732</td>\n",
       "    </tr>\n",
       "    <tr>\n",
       "      <th>196</th>\n",
       "      <td>find</td>\n",
       "      <td>5</td>\n",
       "      <td>0.000732</td>\n",
       "    </tr>\n",
       "    <tr>\n",
       "      <th>197</th>\n",
       "      <td>something</td>\n",
       "      <td>5</td>\n",
       "      <td>0.000732</td>\n",
       "    </tr>\n",
       "    <tr>\n",
       "      <th>198</th>\n",
       "      <td>already</td>\n",
       "      <td>5</td>\n",
       "      <td>0.000732</td>\n",
       "    </tr>\n",
       "    <tr>\n",
       "      <th>199</th>\n",
       "      <td>wanna</td>\n",
       "      <td>5</td>\n",
       "      <td>0.000732</td>\n",
       "    </tr>\n",
       "  </tbody>\n",
       "</table>\n",
       "<p>200 rows × 3 columns</p>\n",
       "</div>"
      ],
      "text/plain": [
       "          word  count  rel_freq\n",
       "0          you    266  0.038917\n",
       "1          the    244  0.035699\n",
       "2            i    192  0.028091\n",
       "3            a    167  0.024433\n",
       "4           to    135  0.019751\n",
       "..         ...    ...       ...\n",
       "195      never      5  0.000732\n",
       "196       find      5  0.000732\n",
       "197  something      5  0.000732\n",
       "198    already      5  0.000732\n",
       "199      wanna      5  0.000732\n",
       "\n",
       "[200 rows x 3 columns]"
      ]
     },
     "execution_count": 132,
     "metadata": {},
     "output_type": "execute_result"
    }
   ],
   "source": [
    "# create dataframe\n",
    "highest_200_df = pd.DataFrame(highest_200, columns = ['word', 'count'])\n",
    "\n",
    "# add relative frequencies\n",
    "highest_200_df['rel_freq'] = highest_200_df['count']/len(tokenized_dialogue)\n",
    "\n",
    "highest_200_df"
   ]
  },
  {
   "attachments": {},
   "cell_type": "markdown",
   "metadata": {},
   "source": [
    "Now let's graph the frequencies of these words."
   ]
  },
  {
   "cell_type": "code",
   "execution_count": 139,
   "metadata": {},
   "outputs": [
    {
     "data": {
      "image/png": "[encoded data removed]",
      "text/plain": [
       "<Figure size 1080x720 with 1 Axes>"
      ]
     },
     "metadata": {
      "needs_background": "light"
     },
     "output_type": "display_data"
    }
   ],
   "source": [
    "plt.figure(figsize=(15,10))\n",
    "plt.plot(highest_200_df['word'], highest_200_df['rel_freq'])\n",
    "plt.xticks(rotation = 90)\n",
    "plt.show()"
   ]
  },
  {
   "attachments": {},
   "cell_type": "markdown",
   "metadata": {},
   "source": [
    "***\n",
    "\n",
    "**Does the observed relative frequency of these words follow Zipf's law? Explain.**"
   ]
  },
  {
   "cell_type": "code",
   "execution_count": null,
   "metadata": {},
   "outputs": [],
   "source": []
  }
 ],
 "metadata": {
  "kernelspec": {
   "display_name": "base",
   "language": "python",
   "name": "python3"
  },
  "language_info": {
   "codemirror_mode": {
    "name": "ipython",
    "version": 3
   },
   "file_extension": ".py",
   "mimetype": "text/x-python",
   "name": "python",
   "nbconvert_exporter": "python",
   "pygments_lexer": "ipython3",
   "version": "3.9.12"
  },
  "orig_nbformat": 4
 },
 "nbformat": 4,
 "nbformat_minor": 2
}
