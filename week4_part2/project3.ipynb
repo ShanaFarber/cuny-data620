{
 "cells": [
  {
   "attachments": {},
   "cell_type": "markdown",
   "metadata": {},
   "source": [
    "## Project 3\n",
    "\n",
    "### Alice Ding, Shoshana Farber, Christian Uriostegui\n",
    "\n",
    "Using any of the three classifiers described in chapter 6 of Natural Language Processing with Python, and any features you can think of, build the best name gender classifier you can. Begin by splitting the Names Corpus into three subsets: 500 words for the test set, 500 words for the dev-test set, and the remaining 6900 words for the training set. Then, starting with the example name gender classifier, make incremental improvements. Use the dev-test set to check your progress. Once you are satisfied with your classifier, check its final performance on the test set. How does the performance on the test set compare to the performance on the dev-test set? Is this what you'd expect?\n",
    "\n",
    "For this project, we'll be using Supervised Classification in order to build a name gender classifier. According to the book, \"a classifier is called *supervised* if it is built on training corpora containing the correct label for each input.\" Using this framework, we will do our best to take a list of names, split it into training and testing data, and then use the training data to build a model and then classify the testing data accordingly.\n",
    "\n",
    "### Importing Packages and the Data"
   ]
  },
  {
   "cell_type": "code",
   "execution_count": 1,
   "metadata": {},
   "outputs": [],
   "source": [
    "import nltk\n",
    "import numpy as np\n",
    "from nltk.classify import apply_features\n",
    "\n",
    "# grab all of the names\n",
    "from nltk.corpus import names\n",
    "names = ([(name, 'male') for name in names.words ('male.txt')] +\n",
    "        [(name, 'female') for name in names.words('female.txt')])\n",
    "\n",
    "# use the random package to shuffle the names\n",
    "import random\n",
    "np.random.seed(135)\n",
    "random.shuffle(names)"
   ]
  },
  {
   "attachments": {},
   "cell_type": "markdown",
   "metadata": {},
   "source": [
    "### Feature Identification\n",
    "\n",
    "#### Last Letter\n",
    "\n",
    "Female and male names have distinctive characteristics: names ending in a, e, and i are likely to be female while names ending in s, r, o, and k are likely to be male. Taking this code from chapter 6, we can build a dictionary containing that relevant information after given a name."
   ]
  },
  {
   "cell_type": "code",
   "execution_count": 2,
   "metadata": {},
   "outputs": [
    {
     "data": {
      "text/plain": [
       "{'last_letter': 'k'}"
      ]
     },
     "execution_count": 2,
     "metadata": {},
     "output_type": "execute_result"
    }
   ],
   "source": [
    "def gender_features(word):\n",
    "    return {'last_letter': word[-1]}\n",
    "gender_features('Shrek')"
   ]
  },
  {
   "attachments": {},
   "cell_type": "markdown",
   "metadata": {},
   "source": [
    "Now, we'll use this function on our names dataset and then split our data into a training and testing set. We'll then use naive Bayes to classify the datasets accordingly."
   ]
  },
  {
   "cell_type": "code",
   "execution_count": 3,
   "metadata": {},
   "outputs": [],
   "source": [
    "# using apply_features to avoid using a large amount of memory\n",
    "train_set = apply_features(gender_features, names[500:])\n",
    "test_set = apply_features(gender_features, names[:500])\n",
    "classifier = nltk.NaiveBayesClassifier.train(train_set)"
   ]
  },
  {
   "attachments": {},
   "cell_type": "markdown",
   "metadata": {},
   "source": [
    "What if we try using this classifier on a few names that aren't in either dataset?"
   ]
  },
  {
   "cell_type": "code",
   "execution_count": 4,
   "metadata": {},
   "outputs": [
    {
     "name": "stdout",
     "output_type": "stream",
     "text": [
      "Tyrion: male\n",
      "Cersei: female\n"
     ]
    }
   ],
   "source": [
    "print('Tyrion:', classifier.classify(gender_features('Tyrion')))\n",
    "print('Cersei:', classifier.classify(gender_features('Cersei')))"
   ]
  },
  {
   "attachments": {},
   "cell_type": "markdown",
   "metadata": {},
   "source": [
    "For these Game of Thrones characters, this seemed to work well.\n",
    "\n",
    "How is the accuracy of our model?"
   ]
  },
  {
   "cell_type": "code",
   "execution_count": 5,
   "metadata": {},
   "outputs": [
    {
     "data": {
      "text/plain": [
       "0.76"
      ]
     },
     "execution_count": 5,
     "metadata": {},
     "output_type": "execute_result"
    }
   ],
   "source": [
    "nltk.classify.accuracy(classifier, test_set)"
   ]
  },
  {
   "attachments": {},
   "cell_type": "markdown",
   "metadata": {},
   "source": [
    "76%, not too bad. What does the classifer say about what features it found most effective for classifying each name's gender?"
   ]
  },
  {
   "cell_type": "code",
   "execution_count": 6,
   "metadata": {},
   "outputs": [
    {
     "name": "stdout",
     "output_type": "stream",
     "text": [
      "Most Informative Features\n",
      "             last_letter = 'a'            female : male   =     35.8 : 1.0\n",
      "             last_letter = 'k'              male : female =     32.0 : 1.0\n",
      "             last_letter = 'f'              male : female =     15.8 : 1.0\n",
      "             last_letter = 'p'              male : female =     11.8 : 1.0\n",
      "             last_letter = 'v'              male : female =     11.1 : 1.0\n"
     ]
    }
   ],
   "source": [
    "classifier.show_most_informative_features(5)"
   ]
  },
  {
   "attachments": {},
   "cell_type": "markdown",
   "metadata": {},
   "source": [
    "Interestingly, this is telling us that:\n",
    "\n",
    "- names that end with a are 35.8 times more likely to be female\n",
    "- names that end with k are 32 times more likely to be male\n",
    "- names that end with f are 15.8 times more likely to be male\n",
    "- names that end with p are 11.8 times more likely to be male\n",
    "- names that end with v are 11.1 times more likely to be male\n",
    "\n",
    "What other features can we add to this model to make it a little better?\n",
    "\n",
    "#### Adding First Letter and Count of All Letters\n",
    "\n",
    "Let's make a new function that finds the last letter, first letter, and a count of all letters used in the name, then use this to train a new model and determine its accuracy."
   ]
  },
  {
   "cell_type": "code",
   "execution_count": 7,
   "metadata": {},
   "outputs": [
    {
     "name": "stdout",
     "output_type": "stream",
     "text": [
      "0.796\n"
     ]
    }
   ],
   "source": [
    "def gender_features_full(name):\n",
    "    features = {}\n",
    "    features[\"firstletter\"] = name[0].lower()\n",
    "    features[\"lastletter\"] = name[-1].lower()\n",
    "    for letter in 'abcdefghijklmnopqrstuvwxyz':\n",
    "        features[\"count(%s)\" % letter] = name.lower().count(letter)\n",
    "        features[\"has(%s)\" % letter] = (letter in name.lower())\n",
    "    return features\n",
    "\n",
    "# using apply_features to avoid using a large amount of memory\n",
    "train_set = apply_features(gender_features_full, names[500:])\n",
    "test_set = apply_features(gender_features_full, names[:500])\n",
    "classifier = nltk.NaiveBayesClassifier.train(train_set)\n",
    "print(nltk.classify.accuracy(classifier, test_set))"
   ]
  },
  {
   "attachments": {},
   "cell_type": "markdown",
   "metadata": {},
   "source": [
    "At ~80%, this is higher than our previous 76%!\n",
    "\n",
    "The next thing we can do is start refining the feature set for error analysis; this requires selecting a development set now."
   ]
  },
  {
   "cell_type": "code",
   "execution_count": 8,
   "metadata": {},
   "outputs": [
    {
     "name": "stdout",
     "output_type": "stream",
     "text": [
      "0.763\n"
     ]
    }
   ],
   "source": [
    "train_names = names[1500:]\n",
    "devtest_names = names[500:1500]\n",
    "test_names = names[:500]\n",
    "\n",
    "train_set = [(gender_features(n), g) for (n,g) in train_names]\n",
    "devtest_set = [(gender_features(n), g) for (n,g) in devtest_names]\n",
    "test_set = [(gender_features(n), g) for (n,g) in test_names]\n",
    "classifier = nltk.NaiveBayesClassifier.train(train_set)\n",
    "print(nltk.classify.accuracy(classifier, devtest_set))"
   ]
  },
  {
   "attachments": {},
   "cell_type": "markdown",
   "metadata": {},
   "source": [
    "With a 76.3% accuracy, let's see what the errors were."
   ]
  },
  {
   "cell_type": "code",
   "execution_count": 9,
   "metadata": {},
   "outputs": [
    {
     "name": "stdout",
     "output_type": "stream",
     "text": [
      "actual=female   guess=male     name=Adel                          \n",
      "actual=female   guess=male     name=Alison                        \n",
      "actual=female   guess=male     name=Amabel                        \n",
      "actual=female   guess=male     name=Amargo                        \n",
      "actual=female   guess=male     name=Anett                         \n",
      "actual=female   guess=male     name=Angil                         \n",
      "actual=female   guess=male     name=Ardis                         \n",
      "actual=female   guess=male     name=Babs                          \n",
      "actual=female   guess=male     name=Beatriz                       \n",
      "actual=female   guess=male     name=Beau                          \n",
      "actual=female   guess=male     name=Beitris                       \n",
      "actual=female   guess=male     name=Berget                        \n",
      "actual=female   guess=male     name=Bidget                        \n",
      "actual=female   guess=male     name=Brandais                      \n",
      "actual=female   guess=male     name=Brit                          \n",
      "actual=female   guess=male     name=Camel                         \n",
      "actual=female   guess=male     name=Carin                         \n",
      "actual=female   guess=male     name=Charin                        \n",
      "actual=female   guess=male     name=Charmain                      \n",
      "actual=female   guess=male     name=Chloris                       \n",
      "actual=female   guess=male     name=Chriss                        \n",
      "actual=female   guess=male     name=Christen                      \n",
      "actual=female   guess=male     name=Colleen                       \n",
      "actual=female   guess=male     name=Damaris                       \n",
      "actual=female   guess=male     name=Danell                        \n",
      "actual=female   guess=male     name=Daryl                         \n",
      "actual=female   guess=male     name=Daveen                        \n",
      "actual=female   guess=male     name=Deloris                       \n",
      "actual=female   guess=male     name=Demetris                      \n",
      "actual=female   guess=male     name=Devin                         \n",
      "actual=female   guess=male     name=Dido                          \n",
      "actual=female   guess=male     name=Dionis                        \n",
      "actual=female   guess=male     name=Doloritas                     \n",
      "actual=female   guess=male     name=Dorcas                        \n",
      "actual=female   guess=male     name=Drew                          \n",
      "actual=female   guess=male     name=Ellen                         \n",
      "actual=female   guess=male     name=Ethelyn                       \n",
      "actual=female   guess=male     name=Evaleen                       \n",
      "actual=female   guess=male     name=Fan                           \n",
      "actual=female   guess=male     name=Flo                           \n",
      "actual=female   guess=male     name=Gabriel                       \n",
      "actual=female   guess=male     name=Gillan                        \n",
      "actual=female   guess=male     name=Gladys                        \n",
      "actual=female   guess=male     name=Glenn                         \n",
      "actual=female   guess=male     name=Hannibal                      \n",
      "actual=female   guess=male     name=Hannis                        \n",
      "actual=female   guess=male     name=Helyn                         \n",
      "actual=female   guess=male     name=Hester                        \n",
      "actual=female   guess=male     name=Inez                          \n",
      "actual=female   guess=male     name=Jaclin                        \n",
      "actual=female   guess=male     name=Jan                           \n",
      "actual=female   guess=male     name=Jazmin                        \n",
      "actual=female   guess=male     name=Jeniffer                      \n",
      "actual=female   guess=male     name=Jocelyn                       \n",
      "actual=female   guess=male     name=Jolyn                         \n",
      "actual=female   guess=male     name=Jordan                        \n",
      "actual=female   guess=male     name=Joyann                        \n",
      "actual=female   guess=male     name=Juliann                       \n",
      "actual=female   guess=male     name=Karel                         \n",
      "actual=female   guess=male     name=Karleen                       \n",
      "actual=female   guess=male     name=Karlen                        \n",
      "actual=female   guess=male     name=Kathlin                       \n",
      "actual=female   guess=male     name=Keren                         \n",
      "actual=female   guess=male     name=Kial                          \n",
      "actual=female   guess=male     name=Kip                           \n",
      "actual=female   guess=male     name=Kristen                       \n",
      "actual=female   guess=male     name=Lauren                        \n",
      "actual=female   guess=male     name=Leanor                        \n",
      "actual=female   guess=male     name=Lind                          \n",
      "actual=female   guess=male     name=Lyndel                        \n",
      "actual=female   guess=male     name=Lynnet                        \n",
      "actual=female   guess=male     name=Mabel                         \n",
      "actual=female   guess=male     name=Madelon                       \n",
      "actual=female   guess=male     name=Magdalen                      \n",
      "actual=female   guess=male     name=Manon                         \n",
      "actual=female   guess=male     name=Margaret                      \n",
      "actual=female   guess=male     name=Margo                         \n",
      "actual=female   guess=male     name=Mariam                        \n",
      "actual=female   guess=male     name=Marie-Ann                     \n",
      "actual=female   guess=male     name=Marijo                        \n",
      "actual=female   guess=male     name=Maris                         \n",
      "actual=female   guess=male     name=Marleen                       \n",
      "actual=female   guess=male     name=Marlyn                        \n",
      "actual=female   guess=male     name=Mead                          \n",
      "actual=female   guess=male     name=Meg                           \n",
      "actual=female   guess=male     name=Meghann                       \n",
      "actual=female   guess=male     name=Meriel                        \n",
      "actual=female   guess=male     name=Merilyn                       \n",
      "actual=female   guess=male     name=Nanon                         \n",
      "actual=female   guess=male     name=Noel                          \n",
      "actual=female   guess=male     name=Pat                           \n",
      "actual=female   guess=male     name=Pearl                         \n",
      "actual=female   guess=male     name=Peg                           \n",
      "actual=female   guess=male     name=Pet                           \n",
      "actual=female   guess=male     name=Rachel                        \n",
      "actual=female   guess=male     name=Rahel                         \n",
      "actual=female   guess=male     name=Raquel                        \n",
      "actual=female   guess=male     name=Raven                         \n",
      "actual=female   guess=male     name=Renell                        \n",
      "actual=female   guess=male     name=Rhiamon                       \n",
      "actual=female   guess=male     name=Robin                         \n",
      "actual=female   guess=male     name=Roseann                       \n",
      "actual=female   guess=male     name=Roselyn                       \n",
      "actual=female   guess=male     name=Sam                           \n",
      "actual=female   guess=male     name=Shannon                       \n",
      "actual=female   guess=male     name=Sharon                        \n",
      "actual=female   guess=male     name=Sib                           \n",
      "actual=female   guess=male     name=Stoddard                      \n",
      "actual=female   guess=male     name=Suzann                        \n",
      "actual=female   guess=male     name=Teriann                       \n",
      "actual=female   guess=male     name=Van                           \n",
      "actual=female   guess=male     name=Velvet                        \n",
      "actual=female   guess=male     name=Willow                        \n",
      "actual=female   guess=male     name=Willyt                        \n",
      "actual=female   guess=male     name=Winifred                      \n",
      "actual=female   guess=male     name=Winnifred                     \n",
      "actual=male     guess=female   name=Alex                          \n",
      "actual=male     guess=female   name=Alfie                         \n",
      "actual=male     guess=female   name=Alfonse                       \n",
      "actual=male     guess=female   name=Anatoly                       \n",
      "actual=male     guess=female   name=Aristotle                     \n",
      "actual=male     guess=female   name=Aube                          \n",
      "actual=male     guess=female   name=Augie                         \n",
      "actual=male     guess=female   name=Bailie                        \n",
      "actual=male     guess=female   name=Bartholemy                    \n",
      "actual=male     guess=female   name=Bartolomei                    \n",
      "actual=male     guess=female   name=Bela                          \n",
      "actual=male     guess=female   name=Berkeley                      \n",
      "actual=male     guess=female   name=Blaine                        \n",
      "actual=male     guess=female   name=Bobby                         \n",
      "actual=male     guess=female   name=Boniface                      \n",
      "actual=male     guess=female   name=Bradley                       \n",
      "actual=male     guess=female   name=Bradly                        \n",
      "actual=male     guess=female   name=Chancey                       \n",
      "actual=male     guess=female   name=Claybourne                    \n",
      "actual=male     guess=female   name=Cody                          \n",
      "actual=male     guess=female   name=Corey                         \n",
      "actual=male     guess=female   name=Corky                         \n",
      "actual=male     guess=female   name=Costa                         \n",
      "actual=male     guess=female   name=Curtice                       \n",
      "actual=male     guess=female   name=Cy                            \n",
      "actual=male     guess=female   name=Dana                          \n",
      "actual=male     guess=female   name=Danie                         \n",
      "actual=male     guess=female   name=Derby                         \n",
      "actual=male     guess=female   name=Dimitri                       \n",
      "actual=male     guess=female   name=Dudley                        \n",
      "actual=male     guess=female   name=Emery                         \n",
      "actual=male     guess=female   name=Enrique                       \n",
      "actual=male     guess=female   name=Eugene                        \n",
      "actual=male     guess=female   name=Eustace                       \n",
      "actual=male     guess=female   name=Felix                         \n",
      "actual=male     guess=female   name=Garey                         \n",
      "actual=male     guess=female   name=Gary                          \n",
      "actual=male     guess=female   name=Gay                           \n",
      "actual=male     guess=female   name=Geoffrey                      \n",
      "actual=male     guess=female   name=Georgy                        \n",
      "actual=male     guess=female   name=Gere                          \n",
      "actual=male     guess=female   name=Giuseppe                      \n",
      "actual=male     guess=female   name=Godfry                        \n",
      "actual=male     guess=female   name=Gregory                       \n",
      "actual=male     guess=female   name=Guthrey                       \n",
      "actual=male     guess=female   name=Hailey                        \n",
      "actual=male     guess=female   name=Hillary                       \n",
      "actual=male     guess=female   name=Horace                        \n",
      "actual=male     guess=female   name=Howie                         \n",
      "actual=male     guess=female   name=Humphrey                      \n",
      "actual=male     guess=female   name=Huntlee                       \n",
      "actual=male     guess=female   name=Hy                            \n",
      "actual=male     guess=female   name=Hymie                         \n",
      "actual=male     guess=female   name=Iggy                          \n",
      "actual=male     guess=female   name=Jedediah                      \n",
      "actual=male     guess=female   name=Jeffry                        \n",
      "actual=male     guess=female   name=Jephthah                      \n",
      "actual=male     guess=female   name=Jerome                        \n",
      "actual=male     guess=female   name=Jesse                         \n",
      "actual=male     guess=female   name=Jody                          \n",
      "actual=male     guess=female   name=Joey                          \n",
      "actual=male     guess=female   name=Jonah                         \n",
      "actual=male     guess=female   name=Joseph                        \n",
      "actual=male     guess=female   name=Jude                          \n",
      "actual=male     guess=female   name=Kelsey                        \n",
      "actual=male     guess=female   name=Kennedy                       \n",
      "actual=male     guess=female   name=Kirby                         \n",
      "actual=male     guess=female   name=Laurence                      \n",
      "actual=male     guess=female   name=Lefty                         \n",
      "actual=male     guess=female   name=Lesley                        \n",
      "actual=male     guess=female   name=Lonny                         \n",
      "actual=male     guess=female   name=Mace                          \n",
      "actual=male     guess=female   name=Maddie                        \n",
      "actual=male     guess=female   name=Marsh                         \n",
      "actual=male     guess=female   name=Martie                        \n",
      "actual=male     guess=female   name=Michale                       \n",
      "actual=male     guess=female   name=Mickey                        \n",
      "actual=male     guess=female   name=Mike                          \n",
      "actual=male     guess=female   name=Monroe                        \n",
      "actual=male     guess=female   name=Neddy                         \n",
      "actual=male     guess=female   name=Niki                          \n",
      "actual=male     guess=female   name=Noe                           \n",
      "actual=male     guess=female   name=Osbourne                      \n",
      "actual=male     guess=female   name=Ossie                         \n",
      "actual=male     guess=female   name=Peirce                        \n",
      "actual=male     guess=female   name=Quincy                        \n",
      "actual=male     guess=female   name=Ramsey                        \n",
      "actual=male     guess=female   name=Reece                         \n",
      "actual=male     guess=female   name=Rene                          \n",
      "actual=male     guess=female   name=Rikki                         \n",
      "actual=male     guess=female   name=Roderich                      \n",
      "actual=male     guess=female   name=Rodney                        \n",
      "actual=male     guess=female   name=Rube                          \n",
      "actual=male     guess=female   name=Sandy                         \n",
      "actual=male     guess=female   name=Sarge                         \n",
      "actual=male     guess=female   name=Sascha                        \n",
      "actual=male     guess=female   name=Scotti                        \n",
      "actual=male     guess=female   name=Shaine                        \n",
      "actual=male     guess=female   name=Shane                         \n",
      "actual=male     guess=female   name=Shorty                        \n",
      "actual=male     guess=female   name=Siffre                        \n",
      "actual=male     guess=female   name=Sinclare                      \n",
      "actual=male     guess=female   name=Smith                         \n",
      "actual=male     guess=female   name=Sunny                         \n",
      "actual=male     guess=female   name=Tabby                         \n",
      "actual=male     guess=female   name=Teddy                         \n",
      "actual=male     guess=female   name=Terence                       \n",
      "actual=male     guess=female   name=Thornie                       \n",
      "actual=male     guess=female   name=Timmie                        \n",
      "actual=male     guess=female   name=Torrance                      \n",
      "actual=male     guess=female   name=Trace                         \n",
      "actual=male     guess=female   name=Tremaine                      \n",
      "actual=male     guess=female   name=Ulrich                        \n",
      "actual=male     guess=female   name=Vite                          \n",
      "actual=male     guess=female   name=Ware                          \n",
      "actual=male     guess=female   name=Welch                         \n",
      "actual=male     guess=female   name=Witty                         \n",
      "actual=male     guess=female   name=Woody                         \n",
      "actual=male     guess=female   name=Yule                          \n",
      "actual=male     guess=female   name=Zach                          \n",
      "actual=male     guess=female   name=Zebadiah                      \n"
     ]
    }
   ],
   "source": [
    "errors = []\n",
    "# for each name and its given tag\n",
    "for (name, tag) in devtest_names:\n",
    "    # get the classifier's guess\n",
    "    guess = classifier.classify(gender_features(name))\n",
    "    # if the guess does not match the correct classification\n",
    "    if guess != tag:\n",
    "        # add it to the list of errors\n",
    "        errors.append( (tag, guess, name))\n",
    "\n",
    "for (tag, guess, name) in sorted(errors):\n",
    "    print('actual=%-8s guess=%-8s name=%-30s' % (tag, guess, name))"
   ]
  },
  {
   "cell_type": "code",
   "execution_count": null,
   "metadata": {},
   "outputs": [],
   "source": []
  }
 ],
 "metadata": {
  "kernelspec": {
   "display_name": "base",
   "language": "python",
   "name": "python3"
  },
  "language_info": {
   "codemirror_mode": {
    "name": "ipython",
    "version": 3
   },
   "file_extension": ".py",
   "mimetype": "text/x-python",
   "name": "python",
   "nbconvert_exporter": "python",
   "pygments_lexer": "ipython3",
   "version": "3.10.9"
  },
  "orig_nbformat": 4,
  "vscode": {
   "interpreter": {
    "hash": "8938740c0a294b0bb463709b29f839994c0cf0da429cfc65f1491f488a740231"
   }
  }
 },
 "nbformat": 4,
 "nbformat_minor": 2
}
